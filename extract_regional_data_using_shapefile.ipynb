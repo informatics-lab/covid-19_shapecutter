{
 "cells": [
  {
   "cell_type": "markdown",
   "metadata": {},
   "source": [
    "# Extracting regional values from Met Office Global meteorological data\n",
    "\n",
    "## Process\n",
    "This notebook runs you through how to extract spatial mean values from gridded data using shapefiles. The process includes:\n",
    "\n",
    "1. Load the Shapefile for the regions we want to subset with.\n",
    "2. Determine the full lat-lon extent of the shapefile.\n",
    "3. Use lookup table shapefile_attributes.json to determine what geometry attributes we want to use for this shapefile.\n",
    "4. Use daterange to generate filenames of NetCDFs we want to load\n",
    "5. Load gridded data from NetCDF files into memory using Iris (using [lazy loading](https://scitools.org.uk/iris/docs/latest/userguide/real_and_lazy_data.html)).\n",
    "6. Subset the data to only the extent of the shapefile, improving the processing time.\n",
    "7. Loop through all the regions in the shapefile; subsetting, collapsing and generating a Pandas DataFrame for each region.\n",
    "8. Each DataFrame is saved to CSV in a temporary location.\n",
    "9. Collate all the region DataFrames into one DataFrame and save out to CSV\n",
    "10. Delete the temporary files.\n",
    "\n",
    "## Method\n",
    "This process uses the polygon of a region (from the shapefile) to subset the gridded data by getting the **latitude-longitude bounding box** of the polygon, as described in this diagram:\n",
    "\n",
    "<img src=\"images/coarse_spatial_mean_gridded.png\" alt=\"Lat-Lon bounding box using polygon\" style=\"height: 400px;\"/> \n",
    "\n",
    "Each grid cell (small latitude-longitude box) contains a single value for a meteorological variable. The single value of that variable for the whole region/polygon is the mean of all the grid cell values in the bounding box i.e. lat-lon spatial mean.\n",
    "\n",
    "For example, here we have air temperature values in a bounding box that covers the a polygon. The temperature value for the region is the mean value of the temperatures in the boundind box - 20.9°C.\n",
    "\n",
    "<img src=\"images/spatial_mean_example.png\" alt=\"The mean value for the temperature is 20.9°C\" style=\"height: 400px;\"/> \n",
    "\n",
    "#### Time\n",
    "Of course we have ignored the time axis in this example, which is present in the gridded data but is handled for us by the Iris library as just another dimension. In this notebook we use daily data and will simply store the date for each value in the final tabular data.\n",
    "\n",
    "#### Improvements\n",
    "This process could be more accurate by only using the grid cells which actually overlap with the polygon and by weighting the grid cells according to how much of their area is within the polygon. Improvements like these are coming."
   ]
  },
  {
   "cell_type": "markdown",
   "metadata": {},
   "source": [
    "## Setup"
   ]
  },
  {
   "cell_type": "code",
   "execution_count": 1,
   "metadata": {},
   "outputs": [],
   "source": [
    "#Data\n",
    "import iris\n",
    "import cartopy.io.shapereader as shpreader\n",
    "import pandas as pd\n",
    "import cftime\n",
    "\n",
    "#Plotting\n",
    "import iris.plot as iplt\n",
    "import iris.quickplot as qplt\n",
    "import matplotlib.pyplot as plt\n",
    "%matplotlib inline\n",
    "\n",
    "#System\n",
    "import os\n",
    "import sys\n",
    "import glob\n",
    "\n",
    "#Met Office utils\n",
    "import shape_utils as shape\n",
    "\n",
    "#Supress warnings\n",
    "import warnings\n",
    "warnings.filterwarnings('ignore')"
   ]
  },
  {
   "cell_type": "markdown",
   "metadata": {},
   "source": [
    "### 1. Load shapefile containing region polygons"
   ]
  },
  {
   "cell_type": "code",
   "execution_count": 7,
   "metadata": {
    "tags": [
     "parameters"
    ]
   },
   "outputs": [],
   "source": [
    "#Define shapefile path\n",
    "shapefile = 'US_COUNTY_POP.shx'"
   ]
  },
  {
   "cell_type": "code",
   "execution_count": 7,
   "metadata": {},
   "outputs": [],
   "source": [
    "#Load the shapefile\n",
    "shape_reader = shpreader.Reader(shapefile)"
   ]
  },
  {
   "cell_type": "code",
   "execution_count": 8,
   "metadata": {},
   "outputs": [
    {
     "data": {
      "text/plain": [
       "3142"
      ]
     },
     "execution_count": 8,
     "metadata": {},
     "output_type": "execute_result"
    }
   ],
   "source": [
    "#How many regions are included?\n",
    "len([record for record in shape_reader.records()])"
   ]
  },
  {
   "cell_type": "code",
   "execution_count": 9,
   "metadata": {},
   "outputs": [
    {
     "data": {
      "text/plain": [
       "<Record: <shapely.geometry.multipolygon.MultiPolygon object at 0x7f017b14cfd0>, {'OBJECTID': 1, 'NAME': 'Autauga', 'STATE_NAME': 'Alabama', 'STATE_FIPS': '01', 'CNTY_FIPS': '001', 'FIPS': '01001', 'POPULATION': 56903, 'POP_SQMI': 94.2, 'POP2010': 54571, 'POP10_SQMI': 90.3, 'WHITE': 42855, 'BLACK': 9643, 'AMERI_ES': 232, 'ASIAN': 474, 'HAWN_PI': 32, 'HISPANIC': 1310, 'OTHER': 466, 'MULT_RACE': 869, 'MALES': 26569, 'FEMALES': 28002, 'AGE_UNDER5': 3579, 'AGE_5_9': 3991, 'AGE_10_14': 4290, 'AGE_15_19': 4290, 'AGE_20_24': 3080, 'AGE_25_34': 6487, 'AGE_35_44': 8243, 'AGE_45_54': 8205, 'AGE_55_64': 5860, 'AGE_65_74': 4013, 'AGE_75_84': 1982, 'AGE_85_UP': 551, 'MED_AGE': 36.9, 'MED_AGE_M': 35.9, 'MED_AGE_F': 37.8, 'HOUSEHOLDS': 20221, 'AVE_HH_SZ': 2.68, 'HSEHLD_1_M': 2012, 'HSEHLD_1_F': 2429, 'MARHH_CHD': 5522, 'MARHH_NO_C': 5845, 'MHH_CHILD': 558, 'FHH_CHILD': 1821, 'FAMILIES': 15064, 'AVE_FAM_SZ': 3.13, 'HSE_UNITS': 22135, 'VACANT': 1914, 'OWNER_OCC': 15248, 'RENTER_OCC': 4973, 'NO_FARMS17': 371.0, 'AVE_SIZE17': 305.0, 'CROP_ACR17': 36890.0, 'AVE_SALE17': 57844.0, 'SQMI': 604.13, 'Shape_Leng': 1.88413711397, 'Shape_Area': 0.148903424615, 'X': -86.6413, 'Y': 32.5394259133}, <fields>>"
      ]
     },
     "execution_count": 9,
     "metadata": {},
     "output_type": "execute_result"
    }
   ],
   "source": [
    "#Let's take a look at one\n",
    "next(shape_reader.records())"
   ]
  },
  {
   "cell_type": "code",
   "execution_count": 10,
   "metadata": {},
   "outputs": [
    {
     "data": {
      "image/svg+xml": [
       "<svg xmlns=\"http://www.w3.org/2000/svg\" xmlns:xlink=\"http://www.w3.org/1999/xlink\" width=\"100.0\" height=\"100.0\" viewBox=\"-86.93263434401608 32.30279853092249 0.5468565843507633 0.42761824242919033\" preserveAspectRatio=\"xMinYMin meet\"><g transform=\"matrix(1,0,0,-1,0,65.03321530427417)\"><g><path fill-rule=\"evenodd\" fill=\"#66cc99\" stroke=\"#555555\" stroke-width=\"0.010937131687015267\" opacity=\"0.6\" d=\"M -86.82066989223495,32.3473096163641 L -86.81445962398351,32.37041090250841 L -86.8457108770292,32.41034611849443 L -86.8314208881539,32.43143709708312 L -86.86392320875291,32.45088018917659 L -86.86461759009796,32.462747406734024 L -86.88191418181589,32.48229348525774 L -86.88183808168185,32.50097371106591 L -86.90671080695591,32.53891379807965 L -86.90197312033041,32.58391850556393 L -86.91238039644753,32.66571511533118 L -86.7113401089427,32.66460112126657 L -86.71137098415022,32.71016282578313 L -86.41370948031545,32.708854100334065 L -86.40603170723386,32.416053421326524 L -86.4259829969543,32.4056547964841 L -86.45401431812297,32.41143001441213 L -86.46377228240937,32.38342697824919 L -86.48581412414262,32.37489749495478 L -86.49813571493019,32.35060989630642 L -86.53577259290108,32.34567369660164 L -86.53770301862784,32.36669598303416 L -86.56974759873395,32.38120287542267 L -86.5854720932661,32.367023902604046 L -86.61225970305514,32.37682740264103 L -86.61709721606479,32.40840471031123 L -86.6473714967301,32.412360311352984 L -86.65808322518723,32.38619212246397 L -86.69205771297982,32.36196927886493 L -86.72226340509695,32.367729318209456 L -86.72522410956066,32.40745840592223 L -86.75066108443264,32.39440482405706 L -86.78135508142577,32.40198437667976 L -86.79096809800978,32.37486247542404 L -86.77421332474063,32.35668588848762 L -86.77867639815287,32.337189386429486 L -86.79923047967668,32.32309438795892 L -86.81659540092272,32.323052478491036 L -86.82066989223495,32.3473096163641 z\" /></g></g></svg>"
      ],
      "text/plain": [
       "<shapely.geometry.multipolygon.MultiPolygon at 0x7f017b17afd0>"
      ]
     },
     "execution_count": 10,
     "metadata": {},
     "output_type": "execute_result"
    }
   ],
   "source": [
    "next(shape_reader.geometries())"
   ]
  },
  {
   "cell_type": "markdown",
   "metadata": {},
   "source": [
    "## 2. Determine the full lat-lon extent of the shapefile\n",
    "\n",
    "First we need some functions to help us"
   ]
  },
  {
   "cell_type": "code",
   "execution_count": 1,
   "metadata": {},
   "outputs": [],
   "source": [
    "def get_shapefile_extent(shape_reader, buffer=0, **kwargs):\n",
    "    '''\n",
    "    Get the extent (x1, x2, y1, y2) of the union of all the polygons\n",
    "    in a shapefile reader object, with an optional buffer added on.\n",
    "    \n",
    "    Arguments:\n",
    "        shape_reader (cartopy.io.shapereader): Shapefile reader object\n",
    "        buffer (num): optional buffer to add to the extent of the shapefile\n",
    "        **kwargs: Keyword arguments for shape_utils.Shape class\n",
    "    \n",
    "    Returns:\n",
    "        extent (tuple): Extent float values in format (x1, x2, y1, y2)\n",
    "    '''\n",
    "    #Get the geometries and records from shapefile_reader\n",
    "    geos = [geo for geo in shape_reader.geometries()]\n",
    "    recs = [rec for rec in shape_reader.records()]\n",
    "    \n",
    "    #Cycle through all the geometries in geos,\n",
    "    #appending Shape object to ShapeList, if shape is valid\n",
    "    shplist = shape.ShapeList([])\n",
    "    for i in range(len(geos)):\n",
    "        shp = shape.Shape(geos[i], recs[i].attributes, **kwargs) \n",
    "        if shp.is_valid:\n",
    "            shplist.append(shp)\n",
    "    \n",
    "    #Get extent of union of all geometries\n",
    "    wsen = shplist.unary_union().data.bounds\n",
    "    \n",
    "    #Rearrange extent from (x1, y1, x2, y2) to (x1, x2, y1, y2), adding buffer\n",
    "    extent = (wsen[0]-buffer, wsen[2]+buffer, wsen[1]-buffer, wsen[3]+buffer)\n",
    "    \n",
    "    return extent"
   ]
  },
  {
   "cell_type": "code",
   "execution_count": 14,
   "metadata": {},
   "outputs": [],
   "source": [
    "def plot_extent(extent):\n",
    "    '''\n",
    "    Use Matplotlib to plot the given extent on a map of the world, \n",
    "    in Plate Carree projection, with coastlines and country boundaries.\n",
    "    \n",
    "    Arguments:\n",
    "        extent (tuple): Float values for lat-lon coordinates in (x1, x2, y1, y2) format\n",
    "    \n",
    "    Returns: \n",
    "        Displays plot\n",
    "    '''\n",
    "    ax = plt.axes(projection=ccrs.PlateCarree())\n",
    "    ax.coastlines(color='b')\n",
    "    ax.add_feature(cartopy.feature.BORDERS, linestyle=':')\n",
    "    ax.set_extent(extent)\n",
    "    plt.show()"
   ]
  },
  {
   "cell_type": "code",
   "execution_count": null,
   "metadata": {},
   "outputs": [],
   "source": [
    "#Get the extent of the shapefile, with a buffer of 1 degree\n",
    "SHAPE_EXTENT = get_shapefile_extent(shape_reader)\n",
    "SHAPE_EXTENT"
   ]
  },
  {
   "cell_type": "code",
   "execution_count": null,
   "metadata": {},
   "outputs": [],
   "source": [
    "#Plot it to check that it looks how we expect it\n",
    "plot_extent(SHAPE_EXTENT)"
   ]
  },
  {
   "cell_type": "markdown",
   "metadata": {},
   "source": [
    "## 3. "
   ]
  },
  {
   "cell_type": "code",
   "execution_count": 11,
   "metadata": {},
   "outputs": [],
   "source": [
    "#We will use a list of the region IDs to loop through later\n",
    "region_ids = [record.attributes['OBJECTID'] for record in shape_reader.records()]"
   ]
  },
  {
   "cell_type": "code",
   "execution_count": 13,
   "metadata": {},
   "outputs": [
    {
     "name": "stdout",
     "output_type": "stream",
     "text": [
      "1 3142\n"
     ]
    }
   ],
   "source": [
    "print(region_ids[0], region_ids[-1])"
   ]
  },
  {
   "cell_type": "code",
   "execution_count": 14,
   "metadata": {},
   "outputs": [],
   "source": [
    "#Helper function to get the record from the reader\n",
    "def get_region_record(target, shapefile=shape_reader, attribute='OBJECTID'):\n",
    "    '''\n",
    "    Get the geometries for the specified target.\n",
    "    \n",
    "    '''\n",
    "    result = None\n",
    "    for record in shapefile.records():\n",
    "        location = record.attributes[attribute]\n",
    "        if location == target:\n",
    "            result = record\n",
    "            break\n",
    "    if result is None:\n",
    "        emsg = f'Could not find region with {attribute} \"{target}\".'\n",
    "        raise ValueError(emsg)\n",
    "    return result"
   ]
  },
  {
   "cell_type": "code",
   "execution_count": 33,
   "metadata": {},
   "outputs": [],
   "source": [
    "#Create a random ID generator\n",
    "from random import randint\n",
    "def rand_id(ids=region_ids): \n",
    "    return randint(ids[0], ids[-1])"
   ]
  },
  {
   "cell_type": "code",
   "execution_count": 36,
   "metadata": {},
   "outputs": [
    {
     "data": {
      "image/svg+xml": [
       "<svg xmlns=\"http://www.w3.org/2000/svg\" xmlns:xlink=\"http://www.w3.org/1999/xlink\" width=\"100.0\" height=\"100.0\" viewBox=\"-84.36448473061492 33.28498985533949 0.45291514332296856 0.38178415641738184\" preserveAspectRatio=\"xMinYMin meet\"><g transform=\"matrix(1,0,0,-1,0,66.95176386709636)\"><g><path fill-rule=\"evenodd\" fill=\"#66cc99\" stroke=\"#555555\" stroke-width=\"0.009058302866459372\" opacity=\"0.6\" d=\"M -84.34771009567703,33.35539280899576 L -84.34658827920231,33.43467640480861 L -84.27835702340622,33.435419585558805 L -84.27684600318292,33.54930558592639 L -84.26141891564129,33.5494236991363 L -84.2591453917612,33.57864350857835 L -84.24916580979391,33.57764788674382 L -84.24979911417643,33.58946159072849 L -84.23706511143058,33.58856527723765 L -84.23715670097232,33.60039820052083 L -84.25809257826711,33.610094777020436 L -84.2566582798263,33.62426219753843 L -84.27390130616749,33.63682757813575 L -84.27461848128979,33.64999937681898 L -84.2402620941184,33.64763048170232 L -84.24255100379827,33.6388950255469 L -84.22369039632474,33.63731210131698 L -84.22198138106256,33.64647861888477 L -84.17377699708061,33.643229106901 L -84.16365231199882,33.608542987018325 L -84.14090049590465,33.57476882544637 L -84.11888108532042,33.56508747933435 L -84.09477889332942,33.56822711495039 L -84.07801640125842,33.553342622918024 L -84.04942787584139,33.544336490656576 L -84.04739068198927,33.526198083297174 L -84.02812548496735,33.49455218707885 L -84.00957010689444,33.49793208982993 L -83.97599181639578,33.487717110307244 L -83.94906651146977,33.489102298518674 L -83.92834422222984,33.44929369160519 L -83.9879631082685,33.39806270842132 L -83.97306219435569,33.39721617861221 L -83.97216950714761,33.390414774466365 L -83.999980091304,33.363952494045236 L -84.0266765777875,33.35892050867142 L -84.03133070449746,33.342361295651244 L -84.05457859607355,33.33470859572492 L -84.05700499367418,33.31777551295198 L -84.07186767620584,33.318160520573315 L -84.07447709747788,33.30485879735886 L -84.09740447746185,33.30176449027738 L -84.11941632465624,33.30234371124277 L -84.13155520259664,33.31374531409341 L -84.15043109226184,33.31716277477301 L -84.14856930688734,33.33408078257054 L -84.24228530087981,33.33838922092508 L -84.24125517755488,33.34981408378957 L -84.34771009567703,33.35539280899576 z\" /></g></g></svg>"
      ],
      "text/plain": [
       "<shapely.geometry.multipolygon.MultiPolygon at 0x7f017b14cba8>"
      ]
     },
     "execution_count": 36,
     "metadata": {},
     "output_type": "execute_result"
    }
   ],
   "source": [
    "#Get a random geometry to check it's all working as expected\n",
    "get_region_record(shape_reader, rand_id()).geometry"
   ]
  },
  {
   "cell_type": "markdown",
   "metadata": {},
   "source": [
    "### 1. Load Met Office Global Data"
   ]
  },
  {
   "cell_type": "markdown",
   "metadata": {},
   "source": [
    "The files for each variable are contained in a separate folder."
   ]
  },
  {
   "cell_type": "code",
   "execution_count": 4,
   "metadata": {},
   "outputs": [
    {
     "name": "stdout",
     "output_type": "stream",
     "text": [
      "['precip_max', 'precip_mean', 'sh_max', 'sh_mean', 'sh_min', 'sw_max', 'sw_mean', 't1o5m_max', 't1o5m_mean', 't1o5m_min']\n",
      "Number of files for each variable: 103\n"
     ]
    }
   ],
   "source": [
    "#List all the filepaths and store in a dict with each variable as a key\n",
    "folder = '/data/covid19-ancillary-data/latest/mo_data_global_daily/'\n",
    "filepaths = {path: glob.glob(os.path.join(folder, path, '*.nc')) for path in os.listdir(folder)}\n",
    "variables = list(filepaths.keys())\n",
    "\n",
    "print(variables)\n",
    "print(f'Number of files for each variable: {len(filepaths[variables[0]])}')"
   ]
  },
  {
   "cell_type": "code",
   "execution_count": 12,
   "metadata": {},
   "outputs": [
    {
     "name": "stdout",
     "output_type": "stream",
     "text": [
      "0: m01s01i202 / (1)                    (time: 103; latitude: 1920; longitude: 2560)\n",
      "CPU times: user 7.54 s, sys: 779 ms, total: 8.32 s\n",
      "Wall time: 10.8 s\n"
     ]
    }
   ],
   "source": [
    "%%time\n",
    "#Run through all the variables and append the loaded cubes to a CubeList\n",
    "cubes = iris.cube.CubeList([])\n",
    "\n",
    "for var in variables:\n",
    "    cubes.extend(iris.load(filepaths[var]))\n",
    "    \n",
    "print(cubes)"
   ]
  },
  {
   "cell_type": "markdown",
   "metadata": {},
   "source": [
    "## 2. Subset global data to the country we want"
   ]
  },
  {
   "cell_type": "code",
   "execution_count": 4,
   "metadata": {},
   "outputs": [
    {
     "name": "stdout",
     "output_type": "stream",
     "text": [
      "0: specific_humidity / (1)             (time: 91; latitude: 608; longitude: 811)\n",
      "1: specific_humidity / (1)             (time: 91; latitude: 608; longitude: 811)\n",
      "2: specific_humidity / (1)             (time: 91; latitude: 608; longitude: 811)\n",
      "3: m01s01i202 / (1)                    (time: 91; latitude: 608; longitude: 811)\n",
      "4: m01s01i202 / (1)                    (time: 91; latitude: 608; longitude: 811)\n",
      "5: air_temperature / (K)               (time: 91; latitude: 608; longitude: 811)\n",
      "6: air_temperature / (K)               (time: 91; latitude: 608; longitude: 811)\n",
      "7: air_temperature / (K)               (time: 91; latitude: 608; longitude: 811)\n"
     ]
    }
   ],
   "source": [
    "#Subset the cubes to just the USA\n",
    "us_latlon = ((18, 75), (-179, -65))\n",
    "us_cubes = iris.cube.CubeList([cube.intersection(latitude=us_latlon[0], longitude=us_latlon[1]) for cube in cubes])\n",
    "print(us_cubes)"
   ]
  },
  {
   "cell_type": "code",
   "execution_count": 5,
   "metadata": {},
   "outputs": [
    {
     "data": {
      "text/plain": [
       "<cartopy.mpl.feature_artist.FeatureArtist at 0x7f017859bfd0>"
      ]
     },
     "execution_count": 5,
     "metadata": {},
     "output_type": "execute_result"
    },
    {
     "data": {
      "image/png": "[encoded data removed]",
      "text/plain": [
       "<Figure size 432x288 with 2 Axes>"
      ]
     },
     "metadata": {
      "needs_background": "light"
     },
     "output_type": "display_data"
    }
   ],
   "source": [
    "#Plot the subset to check that we have the right area\n",
    "qplt.contourf(us_cubes[0][0])\n",
    "plt.gca().coastlines()"
   ]
  },
  {
   "cell_type": "code",
   "execution_count": 6,
   "metadata": {},
   "outputs": [
    {
     "data": {
      "text/plain": [
       "GeogCS(6371229.0)"
      ]
     },
     "execution_count": 6,
     "metadata": {},
     "output_type": "execute_result"
    }
   ],
   "source": [
    "#Extract the coordinate reference system from one of the cubes. We will use this later.\n",
    "CRS = us_cubes[0].coord_system()\n",
    "CRS"
   ]
  },
  {
   "cell_type": "markdown",
   "metadata": {},
   "source": [
    "## 4. Define the functions to be used in the pipeline."
   ]
  },
  {
   "cell_type": "code",
   "execution_count": 8,
   "metadata": {},
   "outputs": [],
   "source": [
    "def parse_data_name(cube):\n",
    "    name = cube.name()\n",
    "    method = cube.cell_methods[0].method.replace('imum', '')\n",
    "    units = cube.units\n",
    "    \n",
    "    if name == 'm01s01i202':\n",
    "        name = 'short_wave_radiation'\n",
    "        units = 'W/m2'\n",
    "    \n",
    "    return f'{name}_{method} ({units})'\n",
    "\n",
    "def get_date(dt):\n",
    "    if isinstance(dt, cftime.real_datetime):\n",
    "        date = dt.date()\n",
    "    else:\n",
    "        try:\n",
    "            date = datetime.datetime(dt.year, dt.month, dt.day).date()\n",
    "        except e:\n",
    "            raise Exception(e)\n",
    "    return date"
   ]
  },
  {
   "cell_type": "code",
   "execution_count": 23,
   "metadata": {},
   "outputs": [],
   "source": [
    "def extract(location, cubes=us_cubes, **kwargs):\n",
    "    region = get_region_record(location, **kwargs)\n",
    "    cutter = shape.Shape(region.geometry, region.attributes, coord_system=CRS)\n",
    "    cut_cubes = cutter.extract_subcubes(cubes)\n",
    "#     cubes_col = [cube.collapsed(['latitude','longitude'], iris.analysis.MEAN) for cube in cut_cubes]\n",
    "    return cut_cubes"
   ]
  },
  {
   "cell_type": "code",
   "execution_count": 47,
   "metadata": {},
   "outputs": [],
   "source": [
    "def extract_collapse_df(location, cubes=us_cubes, **kwargs):\n",
    "    region = get_region_record(location, **kwargs)\n",
    "    cutter = shape.Shape(region.geometry, region.attributes, coord_system=CRS)\n",
    "    cut_cubes = cutter.extract_subcubes(cubes)\n",
    "    cubes_col = [cube.collapsed(['latitude','longitude'], iris.analysis.MEAN) for cube in cut_cubes]\n",
    "    time = cubes_col[0].coord('time')\n",
    "    length = len(time.points)\n",
    "    data = {'objectid': [location]*length,\n",
    "            'fips': [region.attributes['FIPS']]*length,\n",
    "            'county_name': [region.attributes['NAME']]*length,\n",
    "            'state_name': [region.attributes['STATE_NAME']]*length,\n",
    "            'date': [get_date(cell.point) for cell in time.cells()]}\n",
    "    data.update({parse_data_name(cube): cube.data for cube in cubes_col})\n",
    "    \n",
    "    df = pd.DataFrame(data, columns=COL_ORDER)\n",
    "\n",
    "    return df"
   ]
  },
  {
   "cell_type": "code",
   "execution_count": 41,
   "metadata": {},
   "outputs": [
    {
     "name": "stdout",
     "output_type": "stream",
     "text": [
      "1079\n",
      "0: specific_humidity / (1)             (time: 91; latitude: 4; longitude: 5)\n",
      "1: specific_humidity / (1)             (time: 91; latitude: 4; longitude: 5)\n",
      "2: specific_humidity / (1)             (time: 91; latitude: 4; longitude: 5)\n",
      "3: m01s01i202 / (1)                    (time: 91; latitude: 4; longitude: 5)\n",
      "4: m01s01i202 / (1)                    (time: 91; latitude: 4; longitude: 5)\n",
      "5: air_temperature / (K)               (time: 91; latitude: 4; longitude: 5)\n",
      "6: air_temperature / (K)               (time: 91; latitude: 4; longitude: 5)\n",
      "7: air_temperature / (K)               (time: 91; latitude: 4; longitude: 5)\n"
     ]
    },
    {
     "data": {
      "image/svg+xml": [
       "<svg xmlns=\"http://www.w3.org/2000/svg\" xmlns:xlink=\"http://www.w3.org/1999/xlink\" width=\"100.0\" height=\"100.0\" viewBox=\"-86.00333062343945 36.59643146502289 0.5877235622956221 0.27162468998957934\" preserveAspectRatio=\"xMinYMin meet\"><g transform=\"matrix(1,0,0,-1,0,73.46448762003536)\"><g><path fill-rule=\"evenodd\" fill=\"#66cc99\" stroke=\"#555555\" stroke-width=\"0.01175447124591244\" opacity=\"0.6\" d=\"M -85.98061071863356,36.63311261026956 L -85.95823272048818,36.662089510570524 L -85.98156308409517,36.727659592859084 L -85.82994690668164,36.82024061215088 L -85.74753149766275,36.846288615668186 L -85.64130451731438,36.8415717024626 L -85.60381269065414,36.83219589657534 L -85.5973200903876,36.791146479308566 L -85.58341899443661,36.782071603086536 L -85.55461719178896,36.7829455890365 L -85.53424628934886,36.74415840236918 L -85.51069358280449,36.74383069001556 L -85.48658419005199,36.732589213450865 L -85.50235510100356,36.69544929163072 L -85.43737460048811,36.61819900436717 L -85.78547640245239,36.62668528309263 L -85.98061071863356,36.63311261026956 z\" /></g></g></svg>"
      ],
      "text/plain": [
       "<shapely.geometry.multipolygon.MultiPolygon at 0x7f017aff6860>"
      ]
     },
     "metadata": {},
     "output_type": "display_data"
    }
   ],
   "source": [
    "id_ = rand_id()\n",
    "print(id_)\n",
    "print(extract(id_, us_cubes, attribute='OBJECTID'))\n",
    "display(get_region_record(shape_reader, id_, 'OBJECTID').geometry)"
   ]
  },
  {
   "cell_type": "code",
   "execution_count": 56,
   "metadata": {},
   "outputs": [
    {
     "data": {
      "text/html": [
       "<div>\n",
       "<style scoped>\n",
       "    .dataframe tbody tr th:only-of-type {\n",
       "        vertical-align: middle;\n",
       "    }\n",
       "\n",
       "    .dataframe tbody tr th {\n",
       "        vertical-align: top;\n",
       "    }\n",
       "\n",
       "    .dataframe thead th {\n",
       "        text-align: right;\n",
       "    }\n",
       "</style>\n",
       "<table border=\"1\" class=\"dataframe\">\n",
       "  <thead>\n",
       "    <tr style=\"text-align: right;\">\n",
       "      <th></th>\n",
       "      <th>objectid</th>\n",
       "      <th>fips</th>\n",
       "      <th>county_name</th>\n",
       "      <th>state_name</th>\n",
       "      <th>date</th>\n",
       "      <th>air_temperature_max (K)</th>\n",
       "      <th>air_temperature_mean (K)</th>\n",
       "      <th>air_temperature_min (K)</th>\n",
       "      <th>short_wave_radiation_max (W/m2)</th>\n",
       "      <th>short_wave_radiation_mean (W/m2)</th>\n",
       "      <th>specific_humidity_max (1)</th>\n",
       "      <th>specific_humidity_mean (1)</th>\n",
       "      <th>specific_humidity_min (1)</th>\n",
       "    </tr>\n",
       "  </thead>\n",
       "  <tbody>\n",
       "    <tr>\n",
       "      <th>0</th>\n",
       "      <td>1079</td>\n",
       "      <td>21171</td>\n",
       "      <td>Monroe</td>\n",
       "      <td>Kentucky</td>\n",
       "      <td>2020-01-01</td>\n",
       "      <td>281.375000</td>\n",
       "      <td>277.219421</td>\n",
       "      <td>272.959381</td>\n",
       "      <td>453.940613</td>\n",
       "      <td>109.241623</td>\n",
       "      <td>0.003918</td>\n",
       "      <td>0.003385</td>\n",
       "      <td>0.002820</td>\n",
       "    </tr>\n",
       "    <tr>\n",
       "      <th>1</th>\n",
       "      <td>1079</td>\n",
       "      <td>21171</td>\n",
       "      <td>Monroe</td>\n",
       "      <td>Kentucky</td>\n",
       "      <td>2020-01-02</td>\n",
       "      <td>283.477356</td>\n",
       "      <td>279.532257</td>\n",
       "      <td>277.162506</td>\n",
       "      <td>61.387501</td>\n",
       "      <td>9.829915</td>\n",
       "      <td>0.007825</td>\n",
       "      <td>0.004788</td>\n",
       "      <td>0.003198</td>\n",
       "    </tr>\n",
       "    <tr>\n",
       "      <th>2</th>\n",
       "      <td>1079</td>\n",
       "      <td>21171</td>\n",
       "      <td>Monroe</td>\n",
       "      <td>Kentucky</td>\n",
       "      <td>2020-01-03</td>\n",
       "      <td>285.899231</td>\n",
       "      <td>284.045349</td>\n",
       "      <td>282.873444</td>\n",
       "      <td>62.741405</td>\n",
       "      <td>10.445475</td>\n",
       "      <td>0.009155</td>\n",
       "      <td>0.008184</td>\n",
       "      <td>0.007422</td>\n",
       "    </tr>\n",
       "    <tr>\n",
       "      <th>3</th>\n",
       "      <td>1079</td>\n",
       "      <td>21171</td>\n",
       "      <td>Monroe</td>\n",
       "      <td>Kentucky</td>\n",
       "      <td>2020-01-04</td>\n",
       "      <td>285.746094</td>\n",
       "      <td>280.198669</td>\n",
       "      <td>275.383606</td>\n",
       "      <td>261.553894</td>\n",
       "      <td>47.274773</td>\n",
       "      <td>0.009070</td>\n",
       "      <td>0.005971</td>\n",
       "      <td>0.003528</td>\n",
       "    </tr>\n",
       "    <tr>\n",
       "      <th>4</th>\n",
       "      <td>1079</td>\n",
       "      <td>21171</td>\n",
       "      <td>Monroe</td>\n",
       "      <td>Kentucky</td>\n",
       "      <td>2020-01-05</td>\n",
       "      <td>282.268738</td>\n",
       "      <td>276.644897</td>\n",
       "      <td>273.813293</td>\n",
       "      <td>455.005463</td>\n",
       "      <td>107.146484</td>\n",
       "      <td>0.004089</td>\n",
       "      <td>0.003561</td>\n",
       "      <td>0.003369</td>\n",
       "    </tr>\n",
       "    <tr>\n",
       "      <th>...</th>\n",
       "      <td>...</td>\n",
       "      <td>...</td>\n",
       "      <td>...</td>\n",
       "      <td>...</td>\n",
       "      <td>...</td>\n",
       "      <td>...</td>\n",
       "      <td>...</td>\n",
       "      <td>...</td>\n",
       "      <td>...</td>\n",
       "      <td>...</td>\n",
       "      <td>...</td>\n",
       "      <td>...</td>\n",
       "      <td>...</td>\n",
       "    </tr>\n",
       "    <tr>\n",
       "      <th>86</th>\n",
       "      <td>1079</td>\n",
       "      <td>21171</td>\n",
       "      <td>Monroe</td>\n",
       "      <td>Kentucky</td>\n",
       "      <td>2020-03-27</td>\n",
       "      <td>298.362488</td>\n",
       "      <td>293.496033</td>\n",
       "      <td>289.745300</td>\n",
       "      <td>616.667969</td>\n",
       "      <td>170.149017</td>\n",
       "      <td>0.014148</td>\n",
       "      <td>0.011031</td>\n",
       "      <td>0.009119</td>\n",
       "    </tr>\n",
       "    <tr>\n",
       "      <th>87</th>\n",
       "      <td>1079</td>\n",
       "      <td>21171</td>\n",
       "      <td>Monroe</td>\n",
       "      <td>Kentucky</td>\n",
       "      <td>2020-03-28</td>\n",
       "      <td>297.828125</td>\n",
       "      <td>294.396423</td>\n",
       "      <td>291.196106</td>\n",
       "      <td>589.668762</td>\n",
       "      <td>176.388000</td>\n",
       "      <td>0.013782</td>\n",
       "      <td>0.012765</td>\n",
       "      <td>0.011829</td>\n",
       "    </tr>\n",
       "    <tr>\n",
       "      <th>88</th>\n",
       "      <td>1079</td>\n",
       "      <td>21171</td>\n",
       "      <td>Monroe</td>\n",
       "      <td>Kentucky</td>\n",
       "      <td>2020-03-29</td>\n",
       "      <td>295.215637</td>\n",
       "      <td>292.526764</td>\n",
       "      <td>289.711731</td>\n",
       "      <td>739.301575</td>\n",
       "      <td>225.247589</td>\n",
       "      <td>0.013123</td>\n",
       "      <td>0.009711</td>\n",
       "      <td>0.006055</td>\n",
       "    </tr>\n",
       "    <tr>\n",
       "      <th>89</th>\n",
       "      <td>1079</td>\n",
       "      <td>21171</td>\n",
       "      <td>Monroe</td>\n",
       "      <td>Kentucky</td>\n",
       "      <td>2020-03-30</td>\n",
       "      <td>290.037506</td>\n",
       "      <td>286.366669</td>\n",
       "      <td>281.484375</td>\n",
       "      <td>706.430481</td>\n",
       "      <td>166.527740</td>\n",
       "      <td>0.006848</td>\n",
       "      <td>0.005685</td>\n",
       "      <td>0.004846</td>\n",
       "    </tr>\n",
       "    <tr>\n",
       "      <th>90</th>\n",
       "      <td>1079</td>\n",
       "      <td>21171</td>\n",
       "      <td>Monroe</td>\n",
       "      <td>Kentucky</td>\n",
       "      <td>2020-03-31</td>\n",
       "      <td>283.949219</td>\n",
       "      <td>281.348846</td>\n",
       "      <td>279.821869</td>\n",
       "      <td>276.228912</td>\n",
       "      <td>70.202347</td>\n",
       "      <td>0.006384</td>\n",
       "      <td>0.005788</td>\n",
       "      <td>0.004736</td>\n",
       "    </tr>\n",
       "  </tbody>\n",
       "</table>\n",
       "<p>91 rows × 13 columns</p>\n",
       "</div>"
      ],
      "text/plain": [
       "    objectid   fips county_name state_name        date  \\\n",
       "0       1079  21171      Monroe   Kentucky  2020-01-01   \n",
       "1       1079  21171      Monroe   Kentucky  2020-01-02   \n",
       "2       1079  21171      Monroe   Kentucky  2020-01-03   \n",
       "3       1079  21171      Monroe   Kentucky  2020-01-04   \n",
       "4       1079  21171      Monroe   Kentucky  2020-01-05   \n",
       "..       ...    ...         ...        ...         ...   \n",
       "86      1079  21171      Monroe   Kentucky  2020-03-27   \n",
       "87      1079  21171      Monroe   Kentucky  2020-03-28   \n",
       "88      1079  21171      Monroe   Kentucky  2020-03-29   \n",
       "89      1079  21171      Monroe   Kentucky  2020-03-30   \n",
       "90      1079  21171      Monroe   Kentucky  2020-03-31   \n",
       "\n",
       "    air_temperature_max (K)  air_temperature_mean (K)  \\\n",
       "0                281.375000                277.219421   \n",
       "1                283.477356                279.532257   \n",
       "2                285.899231                284.045349   \n",
       "3                285.746094                280.198669   \n",
       "4                282.268738                276.644897   \n",
       "..                      ...                       ...   \n",
       "86               298.362488                293.496033   \n",
       "87               297.828125                294.396423   \n",
       "88               295.215637                292.526764   \n",
       "89               290.037506                286.366669   \n",
       "90               283.949219                281.348846   \n",
       "\n",
       "    air_temperature_min (K)  short_wave_radiation_max (W/m2)  \\\n",
       "0                272.959381                       453.940613   \n",
       "1                277.162506                        61.387501   \n",
       "2                282.873444                        62.741405   \n",
       "3                275.383606                       261.553894   \n",
       "4                273.813293                       455.005463   \n",
       "..                      ...                              ...   \n",
       "86               289.745300                       616.667969   \n",
       "87               291.196106                       589.668762   \n",
       "88               289.711731                       739.301575   \n",
       "89               281.484375                       706.430481   \n",
       "90               279.821869                       276.228912   \n",
       "\n",
       "    short_wave_radiation_mean (W/m2)  specific_humidity_max (1)  \\\n",
       "0                         109.241623                   0.003918   \n",
       "1                           9.829915                   0.007825   \n",
       "2                          10.445475                   0.009155   \n",
       "3                          47.274773                   0.009070   \n",
       "4                         107.146484                   0.004089   \n",
       "..                               ...                        ...   \n",
       "86                        170.149017                   0.014148   \n",
       "87                        176.388000                   0.013782   \n",
       "88                        225.247589                   0.013123   \n",
       "89                        166.527740                   0.006848   \n",
       "90                         70.202347                   0.006384   \n",
       "\n",
       "    specific_humidity_mean (1)  specific_humidity_min (1)  \n",
       "0                     0.003385                   0.002820  \n",
       "1                     0.004788                   0.003198  \n",
       "2                     0.008184                   0.007422  \n",
       "3                     0.005971                   0.003528  \n",
       "4                     0.003561                   0.003369  \n",
       "..                         ...                        ...  \n",
       "86                    0.011031                   0.009119  \n",
       "87                    0.012765                   0.011829  \n",
       "88                    0.009711                   0.006055  \n",
       "89                    0.005685                   0.004846  \n",
       "90                    0.005788                   0.004736  \n",
       "\n",
       "[91 rows x 13 columns]"
      ]
     },
     "execution_count": 56,
     "metadata": {},
     "output_type": "execute_result"
    }
   ],
   "source": [
    "df_ex = extract_collapse_df(id_)\n",
    "df_ex"
   ]
  },
  {
   "cell_type": "markdown",
   "metadata": {},
   "source": [
    "## 5. Loop through all the regions in the shapefile; subsetting, collapsing and saving out to a CSV file for each region."
   ]
  },
  {
   "cell_type": "code",
   "execution_count": 44,
   "metadata": {},
   "outputs": [
    {
     "data": {
      "text/plain": [
       "('objectid',\n",
       " 'fips',\n",
       " 'county_name',\n",
       " 'state_name',\n",
       " 'date',\n",
       " 'air_temperature_max (K)',\n",
       " 'air_temperature_mean (K)',\n",
       " 'air_temperature_min (K)',\n",
       " 'short_wave_radiation_max (W/m2)',\n",
       " 'short_wave_radiation_mean (W/m2)',\n",
       " 'specific_humidity_max (1)',\n",
       " 'specific_humidity_mean (1)',\n",
       " 'specific_humidity_min (1)')"
      ]
     },
     "execution_count": 44,
     "metadata": {},
     "output_type": "execute_result"
    }
   ],
   "source": [
    "#Set the order of the columns in the dataframes we will create\n",
    "col0 = ['objectid', 'fips', 'county_name', 'state_name', 'date']\n",
    "col1 = [parse_data_name(cube) for cube in us_cubes]\n",
    "COL_ORDER = tuple(col0 + sorted([c for c in col1 if c not in col0]))\n",
    "COL_ORDER"
   ]
  },
  {
   "cell_type": "code",
   "execution_count": 52,
   "metadata": {},
   "outputs": [
    {
     "name": "stdout",
     "output_type": "stream",
     "text": [
      "0: specific_humidity / (1)             (time: 91; latitude: 608; longitude: 811)\n",
      "1: specific_humidity / (1)             (time: 91; latitude: 608; longitude: 811)\n",
      "2: specific_humidity / (1)             (time: 91; latitude: 608; longitude: 811)\n",
      "3: m01s01i202 / (1)                    (time: 91; latitude: 608; longitude: 811)\n",
      "4: m01s01i202 / (1)                    (time: 91; latitude: 608; longitude: 811)\n",
      "5: air_temperature / (K)               (time: 91; latitude: 608; longitude: 811)\n",
      "6: air_temperature / (K)               (time: 91; latitude: 608; longitude: 811)\n",
      "7: air_temperature / (K)               (time: 91; latitude: 608; longitude: 811)\n"
     ]
    }
   ],
   "source": [
    "#Let's look at the cubes we are going to \n",
    "print(us_cubes)"
   ]
  },
  {
   "cell_type": "code",
   "execution_count": 53,
   "metadata": {},
   "outputs": [],
   "source": [
    "#For now let's assume we haven't written any files, so we will loop through all the region IDs\n",
    "unwritten = region_ids"
   ]
  },
  {
   "cell_type": "code",
   "execution_count": null,
   "metadata": {},
   "outputs": [],
   "source": [
    "%%time\n",
    "#This will loop through all the region IDs, executing extract_collapse_df for each region and saving it to a CSV file\n",
    "#Any errors will be caught and printed, but the loop will continue onto the next ID\n",
    "#Note that we cannot write to covid19-ancillary-data, so will have to write to /data/share/\n",
    "start = len(csvs)\n",
    "stop = len(region_ids)\n",
    "for location in unwritten[start:]:\n",
    "    try:\n",
    "        df = extract_collapse_df(location)\n",
    "        fname = df['fips'][0]\n",
    "        county = df['county_name'][0]\n",
    "        state = df['state_name'][0]\n",
    "        df.to_csv(f'/data/share/us_data/us_{fname}_daily_data_2020jan-mar.csv', index=False)\n",
    "        print(f'  [{location}] {fname}, {county}, {state}: Success')\n",
    "    except Exception as e:\n",
    "        print(f'x [{location}] {fname}, {county}, {state}: Error \\n  x  {e}')"
   ]
  },
  {
   "cell_type": "markdown",
   "metadata": {},
   "source": [
    "## 6. Load all the region CSVs, collate into one large DataFrame and save out to CSV."
   ]
  },
  {
   "cell_type": "code",
   "execution_count": null,
   "metadata": {},
   "outputs": [],
   "source": [
    "#List all the csvs in /data/share/us_data/\n",
    "csvs = glob.glob('/data/share/us_data/*.csv')\n",
    "len(csvs)"
   ]
  },
  {
   "cell_type": "code",
   "execution_count": null,
   "metadata": {},
   "outputs": [],
   "source": [
    "%%time\n",
    "#Now load all the CSVs for each region and combine into one large dataframe\n",
    "df = pd.concat([pd.read_csv(csv) for csv in csvs], ignore_index=True)\n",
    "df"
   ]
  },
  {
   "cell_type": "code",
   "execution_count": null,
   "metadata": {},
   "outputs": [],
   "source": [
    "#And save to a CSV\n",
    "fname_write = '/data/share/us_daily_precipdata_2020jan-mar_v01.csv'\n",
    "Mdf.to_csv(fname_write, index=False)"
   ]
  },
  {
   "cell_type": "code",
   "execution_count": null,
   "metadata": {},
   "outputs": [],
   "source": [
    "#We can read it back in to check that it wrote correctly\n",
    "pd.read_csv(fname_write)"
   ]
  }
 ],
 "metadata": {
  "kernelspec": {
   "display_name": "Python 3",
   "language": "python",
   "name": "python3"
  },
  "language_info": {
   "codemirror_mode": {
    "name": "ipython",
    "version": 3
   },
   "file_extension": ".py",
   "mimetype": "text/x-python",
   "name": "python",
   "nbconvert_exporter": "python",
   "pygments_lexer": "ipython3",
   "version": "3.7.3"
  }
 },
 "nbformat": 4,
 "nbformat_minor": 4
}
