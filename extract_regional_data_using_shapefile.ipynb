{
 "cells": [
  {
   "cell_type": "markdown",
   "metadata": {},
   "source": [
    "# Extracting regional values from Met Office Global meteorological data\n",
    "\n",
    "## Process\n",
    "This notebook runs you through how to extract spatial mean values from gridded data using shapefiles. The process includes:\n",
    "\n",
    "1. Load the Shapefile for the regions we want to subset with.\n",
    "2. Determine the full lat-lon extent of the shapefile.\n",
    "3. Use lookup table shapefile_attributes.json to determine what geometry attributes we want to use for this shapefile.\n",
    "4. Use daterange to generate filenames of NetCDFs we want to load\n",
    "5. Load gridded data from NetCDF files into memory using Iris (using [lazy loading](https://scitools.org.uk/iris/docs/latest/userguide/real_and_lazy_data.html)).\n",
    "6. Subset the data to only the extent of the shapefile, improving the processing time.\n",
    "7. Define the functions to be used in the pipeline.\n",
    "8. Loop through all the regions in the shapefile; subsetting, collapsing and generating a Pandas DataFrame for each region.\n",
    "9. Each DataFrame is saved to CSV in a temporary location.\n",
    "10. Collate all the region DataFrames into one DataFrame and save out to CSV\n",
    "11. Delete the temporary files.\n",
    "\n",
    "## Method\n",
    "This process uses the polygon of a region (from the shapefile) to subset the gridded data by getting the **latitude-longitude bounding box** of the polygon, as described in this diagram:\n",
    "\n",
    "<img src=\"images/coarse_spatial_mean_gridded.png\" alt=\"Lat-Lon bounding box using polygon\" style=\"height: 400px;\"/> \n",
    "\n",
    "Each grid cell (small latitude-longitude box) contains a single value for a meteorological variable. The single value of that variable for the whole region/polygon is the mean of all the grid cell values in the bounding box i.e. lat-lon spatial mean.\n",
    "\n",
    "For example, here we have air temperature values in a bounding box that covers the a polygon. The temperature value for the region is the mean value of the temperatures in the boundind box - 20.9°C.\n",
    "\n",
    "<img src=\"images/spatial_mean_example.png\" alt=\"The mean value for the temperature is 20.9°C\" style=\"height: 400px;\"/> \n",
    "\n",
    "#### Time\n",
    "Of course we have ignored the time axis in this example, which is present in the gridded data but is handled for us by the Iris library as just another dimension. In this notebook we use daily data and will simply store the date for each value in the final tabular data.\n",
    "\n",
    "#### Improvements\n",
    "This process could be more accurate by only using the grid cells which actually overlap with the polygon and by weighting the grid cells according to how much of their area is within the polygon. Improvements like these are coming."
   ]
  },
  {
   "cell_type": "markdown",
   "metadata": {},
   "source": [
    "## Setup"
   ]
  },
  {
   "cell_type": "code",
   "execution_count": 3,
   "metadata": {},
   "outputs": [],
   "source": [
    "#Data\n",
    "import iris\n",
    "import cartopy.io.shapereader as shpreader\n",
    "import pandas as pd\n",
    "import cftime\n",
    "import datetime\n",
    "\n",
    "#Plotting\n",
    "import cartopy\n",
    "import cartopy.crs as ccrs\n",
    "import iris.plot as iplt\n",
    "import iris.quickplot as qplt\n",
    "import matplotlib.pyplot as plt\n",
    "%matplotlib inline\n",
    "\n",
    "#System\n",
    "import os\n",
    "import sys\n",
    "import glob\n",
    "import json\n",
    "\n",
    "#Met Office utils\n",
    "import shape_utils as shape\n",
    "\n",
    "#Supress warnings\n",
    "import warnings\n",
    "warnings.filterwarnings('ignore')"
   ]
  },
  {
   "cell_type": "markdown",
   "metadata": {},
   "source": [
    "### 1. Load shapefile containing region polygons"
   ]
  },
  {
   "cell_type": "code",
   "execution_count": 154,
   "metadata": {
    "tags": [
     "parameters"
    ]
   },
   "outputs": [],
   "source": [
    "#Define shapefile path\n",
    "# SHAPEFILE = '../covid-19/it_shapefiles/gadm36_ITA_2.shp'\n",
    "# SHAPEFILE = '../covid-19/uk_shapefiles/UK_covid_reporting_regions.shp'\n",
    "# SHAPEFILE = '../covid-19/us_shapefiles/US_COUNTY_POP.shx'\n",
    "# SHAPEFILE = '../covid-19/ug_shapefiles/gadm36_Uganda_2.shp'\n",
    "# SHAPEFILE = '../covid-19/vt_shapefiles/gadm36_Vietnam_2.shp'\n",
    "SHAPEFILE = '../covid-19/br_shapefiles/gadm36_BRA_2.shp'"
   ]
  },
  {
   "cell_type": "code",
   "execution_count": 155,
   "metadata": {},
   "outputs": [],
   "source": [
    "#Load the shapefile\n",
    "shape_reader = shpreader.Reader(SHAPEFILE)"
   ]
  },
  {
   "cell_type": "code",
   "execution_count": 156,
   "metadata": {},
   "outputs": [
    {
     "data": {
      "text/plain": [
       "5504"
      ]
     },
     "execution_count": 156,
     "metadata": {},
     "output_type": "execute_result"
    }
   ],
   "source": [
    "#How many regions are included?\n",
    "len([record for record in shape_reader.records()])"
   ]
  },
  {
   "cell_type": "code",
   "execution_count": 157,
   "metadata": {},
   "outputs": [
    {
     "data": {
      "text/plain": [
       "<Record: <shapely.geometry.multipolygon.MultiPolygon object at 0x7fa7ac7df160>, {'GID_0': 'BRA', 'NAME_0': 'Brazil', 'GID_1': 'BRA.1_1', 'NAME_1': 'Acre', 'NL_NAME_1': '', 'GID_2': 'BRA.1.1_1', 'NAME_2': 'Acrelândia', 'VARNAME_2': '', 'NL_NAME_2': '', 'TYPE_2': 'Município', 'ENGTYPE_2': 'Municipality', 'CC_2': '', 'HASC_2': ''}, <fields>>"
      ]
     },
     "execution_count": 157,
     "metadata": {},
     "output_type": "execute_result"
    }
   ],
   "source": [
    "#Let's take a look at one\n",
    "next(shape_reader.records())"
   ]
  },
  {
   "cell_type": "code",
   "execution_count": 158,
   "metadata": {},
   "outputs": [
    {
     "data": {
      "image/svg+xml": [
       "<svg xmlns=\"http://www.w3.org/2000/svg\" xmlns:xlink=\"http://www.w3.org/1999/xlink\" width=\"100.0\" height=\"100.0\" viewBox=\"-67.183726506 -10.147669026 0.6178573619999952 0.48244228200000094\" preserveAspectRatio=\"xMinYMin meet\"><g transform=\"matrix(1,0,0,-1,0,-19.81289577)\"><g><path fill-rule=\"evenodd\" fill=\"#66cc99\" stroke=\"#555555\" stroke-width=\"0.012357147239999904\" opacity=\"0.6\" d=\"M -67.1608429,-9.98259926 L -67.15184021,-9.97895718 L -67.13828278,-9.97346878 L -67.11916351,-9.96716881 L -67.1031189,-9.96187973 L -67.08988953,-9.9000721 L -67.08296967,-9.86775112 L -67.08034515,-9.86248875 L -67.07834625,-9.85848045 L -67.07254028,-9.85086346 L -67.06446075,-9.84026909 L -67.06608582,-9.82924843 L -67.07000732,-9.80272102 L -67.07951355,-9.79898739 L -67.08255768,-9.79779053 L -67.10199738,-9.75629044 L -67.12388611,-9.73965931 L -67.12607574,-9.72875118 L -67.12657928,-9.72623062 L -67.12590027,-9.72471046 L -67.12333679,-9.71896935 L -67.11242676,-9.71396923 L -67.11105347,-9.69894028 L -67.11074066,-9.69549942 L -67.10585785,-9.68811035 L -67.05983734,-9.70665073 L -66.80647278,-9.81451988 L -66.62003326,-9.89403915 L -66.58875275,-9.90319633 L -66.62332916,-9.92320919 L -66.62413788,-9.92368126 L -66.62265015,-9.93111992 L -66.6231842,-9.9348011 L -66.62391663,-9.93502903 L -66.62963867,-9.93681145 L -66.63056183,-9.93710995 L -66.63385773,-9.93819904 L -66.63828278,-9.95214081 L -66.65068054,-9.94551086 L -66.65106964,-9.94303989 L -66.65519714,-9.94840145 L -66.66613007,-9.95224953 L -66.67030334,-9.96024132 L -66.67682648,-9.95738983 L -66.67664337,-9.96292973 L -66.67646027,-9.96821117 L -66.69579315,-9.96775055 L -66.695961,-9.96775055 L -66.69579315,-9.96822929 L -66.6947403,-9.97136974 L -66.69579315,-9.97173882 L -66.71562958,-9.97884083 L -66.71816254,-9.97463989 L -66.7204361,-9.9770813 L -66.72264862,-9.97943974 L -66.72293854,-9.97974968 L -66.72083282,-9.98348999 L -66.727211,-9.98194122 L -66.7303772,-9.98538017 L -66.73471069,-9.98833084 L -66.73474121,-9.98863029 L -66.74178314,-9.99684238 L -66.75022125,-9.99507999 L -66.7518158,-9.99566078 L -66.75630951,-10.00047016 L -66.76133728,-10.00020981 L -66.76447296,-10.00195122 L -66.76464081,-10.00209904 L -66.76464081,-10.00656033 L -66.77153015,-10.01063919 L -66.77310944,-10.01158142 L -66.77279663,-10.01523018 L -66.77233124,-10.02092075 L -66.7800827,-10.01746082 L -66.79070282,-10.02221107 L -66.7928009,-10.02725887 L -66.80528259,-10.03645992 L -66.80699921,-10.03771973 L -66.80596924,-10.03908062 L -66.80269623,-10.04336071 L -66.80786896,-10.04853916 L -66.81739807,-10.05147934 L -66.82047272,-10.05539322 L -66.82353973,-10.05930138 L -66.83628082,-10.06282902 L -66.83529663,-10.06779099 L -66.84050751,-10.07143116 L -66.83878326,-10.0834713 L -66.85214996,-10.08690166 L -66.85263062,-10.0812397 L -66.85375977,-10.08150864 L -66.86253357,-10.08360958 L -66.86695099,-10.08467007 L -66.86911011,-10.08342075 L -66.87275696,-10.08332062 L -66.87471771,-10.08213997 L -66.87499237,-10.08240032 L -66.87581635,-10.08322144 L -66.87509918,-10.08513069 L -66.87496948,-10.0854702 L -66.87306213,-10.09055996 L -66.87123108,-10.09541035 L -66.87354279,-10.1009798 L -66.8807373,-10.09723091 L -66.88387299,-10.10818863 L -66.8878479,-10.09947968 L -66.88845062,-10.10558128 L -66.88857269,-10.1069603 L -66.88932037,-10.11465931 L -66.89269257,-10.11257553 L -66.89607239,-10.1104908 L -66.89689636,-10.11090755 L -66.89772797,-10.11132908 L -66.89904022,-10.11198997 L -66.89813995,-10.11595058 L -66.89756012,-10.11846066 L -66.90142059,-10.12453938 L -66.90157318,-10.12478542 L -66.91207886,-10.1142807 L -66.92009735,-10.1104908 L -66.92946625,-10.11225033 L -66.94481659,-10.1016407 L -66.95960236,-10.09741974 L -66.9786911,-10.098279 L -66.98693085,-10.08913136 L -67.00061798,-10.08742809 L -67.01922607,-10.09267044 L -67.04421997,-10.09345913 L -67.05744171,-10.10673904 L -67.16027069,-10.10565853 L -67.1608429,-9.98259926 z\" /></g></g></svg>"
      ],
      "text/plain": [
       "<shapely.geometry.multipolygon.MultiPolygon at 0x7fa7ac7df940>"
      ]
     },
     "execution_count": 158,
     "metadata": {},
     "output_type": "execute_result"
    }
   ],
   "source": [
    "next(shape_reader.geometries())"
   ]
  },
  {
   "cell_type": "markdown",
   "metadata": {},
   "source": [
    "## 2. Determine the full lat-lon extent of the shapefile\n",
    "\n",
    "First we need some functions to help us"
   ]
  },
  {
   "cell_type": "code",
   "execution_count": 159,
   "metadata": {},
   "outputs": [],
   "source": [
    "def get_shapefile_extent(shape_reader, buffer=0, **kwargs):\n",
    "    '''\n",
    "    Get the extent (x1, x2, y1, y2) of the union of all the polygons\n",
    "    in a shapefile reader object, with an optional buffer added on.\n",
    "    \n",
    "    Arguments:\n",
    "        shape_reader (cartopy.io.shapereader): Shapefile reader object\n",
    "        buffer (num): optional buffer to add to the extent of the shapefile\n",
    "        **kwargs: Keyword arguments for shape_utils.Shape class\n",
    "    \n",
    "    Returns:\n",
    "        extent (tuple): Extent float values in format (x1, x2, y1, y2)\n",
    "        \n",
    "    TODO: Split into\n",
    "            - get_shapefile_shapelist(shape_reader)\n",
    "            - get_shapelist_union(shapelist, **kwargs)\n",
    "            - get_shape_extent(shape, buffer=0)\n",
    "    '''\n",
    "    #Get all the records from shapefile_reader\n",
    "    recs = [rec for rec in shape_reader.records()]\n",
    "    \n",
    "    #Cycle through all the records in recs,\n",
    "    #appending Shape object to ShapeList, if shape is valid\n",
    "    shplist = shape.ShapeList([])\n",
    "    for rec in recs:\n",
    "        shp = shape.Shape(rec.geometry, rec.attributes, **kwargs) \n",
    "        if shp.is_valid:\n",
    "            shplist.append(shp)\n",
    "    \n",
    "    #Get extent of union of all geometries\n",
    "    wsen = shplist.unary_union().data.bounds\n",
    "    \n",
    "    #Rearrange extent from (x1, y1, x2, y2) to (x1, x2, y1, y2), adding buffer\n",
    "    extent = (wsen[0]-buffer, wsen[2]+buffer, wsen[1]-buffer, wsen[3]+buffer)\n",
    "    \n",
    "    return extent"
   ]
  },
  {
   "cell_type": "code",
   "execution_count": 160,
   "metadata": {},
   "outputs": [],
   "source": [
    "def plot_extent(extent):\n",
    "    '''\n",
    "    Use Matplotlib to plot the given extent on a map of the world, \n",
    "    in Plate Carree projection, with coastlines and country boundaries.\n",
    "    \n",
    "    Arguments:\n",
    "        extent (tuple): Float values for lat-lon coordinates in (x1, x2, y1, y2) format\n",
    "    \n",
    "    Returns: \n",
    "        Displays plot\n",
    "    '''\n",
    "    ax = plt.axes(projection=ccrs.PlateCarree())\n",
    "    ax.coastlines('50m', color='b')\n",
    "    ax.add_feature(cartopy.feature.BORDERS.with_scale('50m'), linestyle=':')\n",
    "    ax.set_extent(extent)\n",
    "    plt.show()"
   ]
  },
  {
   "cell_type": "code",
   "execution_count": 161,
   "metadata": {},
   "outputs": [
    {
     "data": {
      "text/plain": [
       "(-74.98970795, -27.84694481, -34.74708176, 6.2648778)"
      ]
     },
     "execution_count": 161,
     "metadata": {},
     "output_type": "execute_result"
    }
   ],
   "source": [
    "%%time\n",
    "#Get the extent of the shapefile, with a buffer of 1 degree\n",
    "SHAPE_EXTENT = get_shapefile_extent(shape_reader, buffer=1)\n",
    "SHAPE_EXTENT"
   ]
  },
  {
   "cell_type": "code",
   "execution_count": 162,
   "metadata": {},
   "outputs": [
    {
     "data": {
      "image/png": "[encoded data removed]",
      "text/plain": [
       "<Figure size 432x288 with 1 Axes>"
      ]
     },
     "metadata": {
      "needs_background": "light"
     },
     "output_type": "display_data"
    }
   ],
   "source": [
    "#Plot it onto a map of the world to check that it looks how we expect it to\n",
    "plot_extent(SHAPE_EXTENT)"
   ]
  },
  {
   "cell_type": "markdown",
   "metadata": {},
   "source": [
    "## 3. Use lookup table shapefile_attributes.json to determine what shapefile attributes we want to use later."
   ]
  },
  {
   "cell_type": "code",
   "execution_count": 163,
   "metadata": {},
   "outputs": [],
   "source": [
    "#Define json path\n",
    "json_read = './shapefile_attributes.json'"
   ]
  },
  {
   "cell_type": "code",
   "execution_count": 164,
   "metadata": {},
   "outputs": [
    {
     "data": {
      "text/plain": [
       "'gadm36_BRA_2'"
      ]
     },
     "execution_count": 164,
     "metadata": {},
     "output_type": "execute_result"
    }
   ],
   "source": [
    "#Get shapefile name\n",
    "shape_name = SHAPEFILE.split('/')[-1].split('.')[-2]\n",
    "shape_name"
   ]
  },
  {
   "cell_type": "code",
   "execution_count": 165,
   "metadata": {},
   "outputs": [
    {
     "data": {
      "text/plain": [
       "('GID_2', 'HASC_2', 'NAME_0', 'NAME_1', 'NAME_2', 'ENGTYPE_2')"
      ]
     },
     "execution_count": 165,
     "metadata": {},
     "output_type": "execute_result"
    }
   ],
   "source": [
    "#Load SHAPE_ATTRS from json file as a tuple\n",
    "with open(json_read) as file:\n",
    "    SHAPE_ATTRS = tuple(json.load(file)['shapefile_attributes'][shape_name])\n",
    "    \n",
    "SHAPE_ATTRS"
   ]
  },
  {
   "cell_type": "code",
   "execution_count": 166,
   "metadata": {},
   "outputs": [
    {
     "data": {
      "text/plain": [
       "('BRA.1.1_1',\n",
       " 'BRA.1.2_1',\n",
       " 'BRA.1.3_1',\n",
       " 'BRA.1.4_1',\n",
       " 'BRA.1.5_1',\n",
       " 'BRA.1.6_1',\n",
       " 'BRA.1.7_1',\n",
       " 'BRA.1.8_1',\n",
       " 'BRA.1.9_1',\n",
       " 'BRA.1.10_1')"
      ]
     },
     "execution_count": 166,
     "metadata": {},
     "output_type": "execute_result"
    }
   ],
   "source": [
    "#The first attribute in SHAPE_ATTRS will be the shapefile attribute we iterate over in our pipeline\n",
    "SHAPE_IDS = tuple(record.attributes[SHAPE_ATTRS[0]] for record in shape_reader.records())\n",
    "SHAPE_IDS[0:10]"
   ]
  },
  {
   "cell_type": "markdown",
   "metadata": {},
   "source": [
    "## 4. Use daterange to generate filenames of NetCDFs we want to load"
   ]
  },
  {
   "cell_type": "code",
   "execution_count": 21,
   "metadata": {},
   "outputs": [
    {
     "data": {
      "text/plain": [
       "DatetimeIndex(['2020-03-01', '2020-03-02', '2020-03-03', '2020-03-04',\n",
       "               '2020-03-05', '2020-03-06', '2020-03-07', '2020-03-08',\n",
       "               '2020-03-09', '2020-03-10', '2020-03-11'],\n",
       "              dtype='datetime64[ns]', freq='D')"
      ]
     },
     "execution_count": 21,
     "metadata": {},
     "output_type": "execute_result"
    }
   ],
   "source": [
    "#Define date range\n",
    "start = datetime.date(2020, 3, 1)\n",
    "stop = datetime.date(2020, 3, 11)\n",
    "step = datetime.timedelta(days=1)\n",
    "DATERANGE = pd.date_range(start, stop, freq=step)\n",
    "DATERANGE"
   ]
  },
  {
   "cell_type": "code",
   "execution_count": 22,
   "metadata": {},
   "outputs": [
    {
     "name": "stdout",
     "output_type": "stream",
     "text": [
      "*_20200301.nc\n",
      "*_20200311.nc\n"
     ]
    }
   ],
   "source": [
    "filename_fmt = f'*_%Y%m%d.nc'\n",
    "FILENAMES = list(DATERANGE.strftime(filename_fmt))\n",
    "print(FILENAMES[0])\n",
    "print(FILENAMES[-1])"
   ]
  },
  {
   "cell_type": "markdown",
   "metadata": {},
   "source": [
    "## 5. Load gridded data from NetCDF files into memory using Iris (using [lazy loading](https://scitools.org.uk/iris/docs/latest/userguide/real_and_lazy_data.html))."
   ]
  },
  {
   "cell_type": "markdown",
   "metadata": {},
   "source": [
    "The files for each variable are contained in a separate folder."
   ]
  },
  {
   "cell_type": "code",
   "execution_count": 23,
   "metadata": {},
   "outputs": [
    {
     "name": "stdout",
     "output_type": "stream",
     "text": [
      "['precip_max', 'precip_mean', 'sh_max', 'sh_mean', 'sh_min', 'sw_max', 'sw_mean', 't1o5m_max', 't1o5m_mean', 't1o5m_min']\n",
      "Number of files for each variable: 11\n",
      "CPU times: user 45.4 ms, sys: 22.1 ms, total: 67.4 ms\n",
      "Wall time: 15.9 s\n"
     ]
    }
   ],
   "source": [
    "%%time\n",
    "#List all the filepaths and store in a dict with each variable as a key\n",
    "folder = '/data/misc/covid-19/data_nc_daily/'\n",
    "filepaths = {}\n",
    "for path in os.listdir(folder):\n",
    "    filepaths[path] = []\n",
    "    for filename in FILENAMES:\n",
    "        filepaths[path].extend(glob.glob(os.path.join(folder, path, filename)))\n",
    "variables = list(filepaths.keys())\n",
    "\n",
    "print(variables)\n",
    "print(f'Number of files for each variable: {len(filepaths[variables[0]])}')"
   ]
  },
  {
   "cell_type": "code",
   "execution_count": 24,
   "metadata": {},
   "outputs": [
    {
     "name": "stdout",
     "output_type": "stream",
     "text": [
      "0: precipitation_flux / (kg m-2 s-1)   (time: 11; latitude: 1920; longitude: 2560)\n",
      "1: precipitation_flux / (kg m-2 s-1)   (time: 11; latitude: 1920; longitude: 2560)\n",
      "2: specific_humidity / (1)             (time: 11; latitude: 1920; longitude: 2560)\n",
      "3: specific_humidity / (1)             (time: 11; latitude: 1920; longitude: 2560)\n",
      "4: specific_humidity / (1)             (time: 11; latitude: 1920; longitude: 2560)\n",
      "5: m01s01i202 / (1)                    (time: 11; latitude: 1920; longitude: 2560)\n",
      "6: m01s01i202 / (1)                    (time: 11; latitude: 1920; longitude: 2560)\n",
      "7: air_temperature / (K)               (time: 11; latitude: 1920; longitude: 2560)\n",
      "8: air_temperature / (K)               (time: 11; latitude: 1920; longitude: 2560)\n",
      "9: air_temperature / (K)               (time: 11; latitude: 1920; longitude: 2560)\n",
      "CPU times: user 7.91 s, sys: 373 ms, total: 8.28 s\n",
      "Wall time: 55.5 s\n"
     ]
    }
   ],
   "source": [
    "%%time\n",
    "#Run through all the variables and append the loaded cubes to a CubeList\n",
    "cubes = iris.cube.CubeList([])\n",
    "\n",
    "for var in variables:\n",
    "    cubes.extend(iris.load(filepaths[var]))\n",
    "    \n",
    "print(cubes)"
   ]
  },
  {
   "cell_type": "markdown",
   "metadata": {},
   "source": [
    "## 6. Subset global data based on the extent of the shapefile"
   ]
  },
  {
   "cell_type": "code",
   "execution_count": 167,
   "metadata": {},
   "outputs": [],
   "source": [
    "#Define CoordExtent objects for x and y axes using SHAPE_EXTENT\n",
    "x_axis = cubes[0].coord(axis='x')\n",
    "y_axis = cubes[0].coord(axis='y')\n",
    "\n",
    "x_extent = iris.coords.CoordExtent(x_axis, SHAPE_EXTENT[0], SHAPE_EXTENT[1])\n",
    "y_extent = iris.coords.CoordExtent(y_axis, SHAPE_EXTENT[2], SHAPE_EXTENT[3])"
   ]
  },
  {
   "cell_type": "code",
   "execution_count": 168,
   "metadata": {},
   "outputs": [
    {
     "name": "stdout",
     "output_type": "stream",
     "text": [
      "0: precipitation_flux / (kg m-2 s-1)   (time: 11; latitude: 438; longitude: 335)\n",
      "1: precipitation_flux / (kg m-2 s-1)   (time: 11; latitude: 438; longitude: 335)\n",
      "2: specific_humidity / (1)             (time: 11; latitude: 438; longitude: 335)\n",
      "3: specific_humidity / (1)             (time: 11; latitude: 438; longitude: 335)\n",
      "4: specific_humidity / (1)             (time: 11; latitude: 438; longitude: 335)\n",
      "5: m01s01i202 / (1)                    (time: 11; latitude: 438; longitude: 335)\n",
      "6: m01s01i202 / (1)                    (time: 11; latitude: 438; longitude: 335)\n",
      "7: air_temperature / (K)               (time: 11; latitude: 438; longitude: 335)\n",
      "8: air_temperature / (K)               (time: 11; latitude: 438; longitude: 335)\n",
      "9: air_temperature / (K)               (time: 11; latitude: 438; longitude: 335)\n"
     ]
    }
   ],
   "source": [
    "#Subset cubes\n",
    "shape_cubes = iris.cube.CubeList([cube.intersection(x_extent, y_extent) for cube in cubes])\n",
    "print(shape_cubes)"
   ]
  },
  {
   "cell_type": "code",
   "execution_count": 169,
   "metadata": {},
   "outputs": [
    {
     "data": {
      "text/plain": [
       "<cartopy.mpl.feature_artist.FeatureArtist at 0x7fa75451f048>"
      ]
     },
     "execution_count": 169,
     "metadata": {},
     "output_type": "execute_result"
    },
    {
     "data": {
      "image/png": "[encoded data removed]",
      "text/plain": [
       "<Figure size 432x288 with 2 Axes>"
      ]
     },
     "metadata": {
      "needs_background": "light"
     },
     "output_type": "display_data"
    }
   ],
   "source": [
    "#Plot the first time step of the first cube in cubes\n",
    "#To check that we've subsetted correctly\n",
    "qplt.contourf(shape_cubes[0][0], cmap='Purples')\n",
    "plt.gca().coastlines('50m', color='blue')\n",
    "plt.gca().add_feature(cartopy.feature.BORDERS.with_scale('50m'), linestyle=':')"
   ]
  },
  {
   "cell_type": "code",
   "execution_count": 170,
   "metadata": {},
   "outputs": [
    {
     "data": {
      "text/plain": [
       "GeogCS(6371229.0)"
      ]
     },
     "execution_count": 170,
     "metadata": {},
     "output_type": "execute_result"
    }
   ],
   "source": [
    "#Extract the coordinate reference system from one of the cubes. We will use this later.\n",
    "CRS = shape_cubes[0].coord_system()\n",
    "CRS"
   ]
  },
  {
   "cell_type": "markdown",
   "metadata": {},
   "source": [
    "## 7. Define the functions to be used in the pipeline."
   ]
  },
  {
   "cell_type": "markdown",
   "metadata": {},
   "source": [
    "### Shapefile functions"
   ]
  },
  {
   "cell_type": "code",
   "execution_count": 171,
   "metadata": {},
   "outputs": [],
   "source": [
    "def get_shape_record(target, shape_reader=shape_reader, attribute=SHAPE_ATTRS[0]):\n",
    "    '''\n",
    "    Get a record from the shape_reader with a target attribute.\n",
    "    \n",
    "    '''\n",
    "    result = None\n",
    "    for record in shape_reader.records():\n",
    "        shape_id = record.attributes[attribute]\n",
    "        if shape_id == target:\n",
    "            result = record\n",
    "            break\n",
    "    if result is None:\n",
    "        emsg = f'Could not find record with {attribute} = \"{target}\".'\n",
    "        raise ValueError(emsg)\n",
    "    return result"
   ]
  },
  {
   "cell_type": "code",
   "execution_count": 172,
   "metadata": {},
   "outputs": [],
   "source": [
    "#Create a random ID generator\n",
    "from random import randint\n",
    "def rand_id(ids=SHAPE_IDS):\n",
    "    '''\n",
    "    Return a random id\n",
    "    Useful for testing\n",
    "    '''\n",
    "    rand_i = randint(0, len(ids))\n",
    "    return ids[rand_i]"
   ]
  },
  {
   "cell_type": "code",
   "execution_count": 173,
   "metadata": {},
   "outputs": [
    {
     "name": "stdout",
     "output_type": "stream",
     "text": [
      "BRA.11.36_1\n"
     ]
    },
    {
     "data": {
      "image/svg+xml": [
       "<svg xmlns=\"http://www.w3.org/2000/svg\" xmlns:xlink=\"http://www.w3.org/1999/xlink\" width=\"100.0\" height=\"100.0\" viewBox=\"-56.2471715596 -21.8140374796 0.5267756691999992 0.5530455791999991\" preserveAspectRatio=\"xMinYMin meet\"><g transform=\"matrix(1,0,0,-1,0,-43.075029380000004)\"><g><path fill-rule=\"evenodd\" fill=\"#66cc99\" stroke=\"#555555\" stroke-width=\"0.011060911583999982\" opacity=\"0.6\" d=\"M -56.08922577,-21.68677902 L -56.08909988,-21.67878151 L -56.09373474,-21.67659187 L -56.09323883,-21.66090965 L -56.09907532,-21.65353966 L -56.10596085,-21.65196419 L -56.10804749,-21.6487484 L -56.10493088,-21.64623451 L -56.11149597,-21.64459229 L -56.11568451,-21.6391201 L -56.11432648,-21.62743378 L -56.12287903,-21.62959862 L -56.12099075,-21.61866951 L -56.12582016,-21.61152267 L -56.11896133,-21.60684395 L -56.1259613,-21.60721397 L -56.12762451,-21.60409737 L -56.11826706,-21.60004425 L -56.11745834,-21.59048653 L -56.12506866,-21.59045029 L -56.12627411,-21.58032608 L -56.13388062,-21.58273888 L -56.1282692,-21.56551361 L -56.12410355,-21.56527519 L -56.1160965,-21.55113411 L -56.11118317,-21.55003357 L -56.11098862,-21.54505157 L -56.10464096,-21.54248428 L -56.10992813,-21.52249908 L -56.11949158,-21.51559448 L -56.11546707,-21.51366043 L -56.11290359,-21.50592613 L -56.12015533,-21.4828434 L -56.11766052,-21.47845268 L -56.12243271,-21.47488976 L -56.11960602,-21.47076416 L -56.12520599,-21.4685955 L -56.12692261,-21.46694374 L -56.13440323,-21.46204567 L -56.14182663,-21.46221924 L -56.14412689,-21.44651794 L -56.15365601,-21.44316673 L -56.15963745,-21.43458176 L -56.16415787,-21.43368912 L -56.17206955,-21.43966103 L -56.17543793,-21.43647575 L -56.18520355,-21.44039536 L -56.19715881,-21.43168831 L -56.19324112,-21.42760468 L -56.19260025,-21.41898346 L -56.19573975,-21.40719795 L -56.20154572,-21.40584755 L -56.20388412,-21.39691544 L -56.21032715,-21.39506912 L -56.21224213,-21.38651657 L -56.21669006,-21.38340569 L -56.21713257,-21.37815475 L -56.20982742,-21.3734417 L -56.2130661,-21.36660194 L -56.20643234,-21.36305618 L -56.21182632,-21.35569382 L -56.20371246,-21.3552227 L -56.20574188,-21.34909439 L -56.20173645,-21.34370232 L -56.21173096,-21.33982468 L -56.20763397,-21.33171844 L -56.21196747,-21.32593918 L -56.21781921,-21.32259369 L -56.2113533,-21.31194687 L -56.21179581,-21.30282211 L -56.22668839,-21.29143143 L -56.22529602,-21.28719139 L -56.20798492,-21.28710937 L -56.19956589,-21.28147507 L -56.18740845,-21.31184387 L -56.1710434,-21.31728172 L -56.16343307,-21.32657051 L -56.14065933,-21.34170151 L -56.13132858,-21.34226227 L -56.11552048,-21.34928513 L -56.08971024,-21.35154152 L -56.05090332,-21.34604454 L -56.03318024,-21.35553932 L -56.0166893,-21.3595562 L -56.0063858,-21.36743546 L -55.97824478,-21.38857079 L -55.95767975,-21.40451622 L -55.92776108,-21.40976715 L -55.92124176,-21.41928673 L -55.92112732,-21.43567848 L -55.91461945,-21.443367 L -55.89385223,-21.45047569 L -55.87903976,-21.45025444 L -55.8720932,-21.45846748 L -55.86460114,-21.46107864 L -55.85170746,-21.48232269 L -55.84251785,-21.48743439 L -55.8368454,-21.48676682 L -55.82684708,-21.48659515 L -55.82617569,-21.49872589 L -55.81537628,-21.49642563 L -55.81437683,-21.50375938 L -55.80151749,-21.49466133 L -55.80548096,-21.5126667 L -55.80234909,-21.51529121 L -55.79682159,-21.51392555 L -55.7936554,-21.50657463 L -55.79081345,-21.51128006 L -55.79565048,-21.51990891 L -55.78043365,-21.52268791 L -55.79073715,-21.52923012 L -55.79415894,-21.52487755 L -55.80031967,-21.52999496 L -55.80648422,-21.52527046 L -55.81176758,-21.53602028 L -55.81698227,-21.53552818 L -55.81748199,-21.53059769 L -55.82168579,-21.53086662 L -55.81859207,-21.53642464 L -55.81376648,-21.54509735 L -55.79906845,-21.54576111 L -55.80507278,-21.55120659 L -55.80210114,-21.5586319 L -55.8039856,-21.56249237 L -55.79740524,-21.55978584 L -55.79512787,-21.56306839 L -55.79034424,-21.55870438 L -55.79123688,-21.55499458 L -55.78468704,-21.5539341 L -55.7833786,-21.54725075 L -55.77423859,-21.55709267 L -55.78538132,-21.55788231 L -55.78684998,-21.56360054 L -55.77851486,-21.56802559 L -55.78992844,-21.56798935 L -55.79034424,-21.57443428 L -55.79523849,-21.57436943 L -55.80034637,-21.56733894 L -55.79738235,-21.58047104 L -55.77896118,-21.58071327 L -55.77573395,-21.58482552 L -55.78734589,-21.5896244 L -55.79017639,-21.59706116 L -55.78054428,-21.59355927 L -55.77865219,-21.59992027 L -55.76795578,-21.59779167 L -55.76018143,-21.58420753 L -55.75028992,-21.58559608 L -55.75864792,-21.59012032 L -55.75745773,-21.60755539 L -55.75179672,-21.60877228 L -55.74751663,-21.60567474 L -55.74845886,-21.61143494 L -55.74087906,-21.62161827 L -55.75059891,-21.62169647 L -55.75309372,-21.61564064 L -55.76184845,-21.61255836 L -55.76401901,-21.60680199 L -55.76987457,-21.60476112 L -55.77056885,-21.61347771 L -55.75912094,-21.6181221 L -55.75863266,-21.62365341 L -55.74599075,-21.63537788 L -55.74470901,-21.64525986 L -55.75627136,-21.62980652 L -55.75998306,-21.62940979 L -55.76284409,-21.63501167 L -55.76373291,-21.61915779 L -55.76737213,-21.62300873 L -55.77426529,-21.62331581 L -55.7755928,-21.61521149 L -55.78100967,-21.61344719 L -55.78268433,-21.61678696 L -55.7857933,-21.61418152 L -55.78673553,-21.61939812 L -55.79410172,-21.61121178 L -55.79318619,-21.62239838 L -55.79518127,-21.62598801 L -55.79907608,-21.62531471 L -55.80104446,-21.61500931 L -55.81007385,-21.61649323 L -55.80537796,-21.60411835 L -55.80747986,-21.59918594 L -55.8134346,-21.6057663 L -55.8150444,-21.59466171 L -55.82899094,-21.60851479 L -55.82192612,-21.60754395 L -55.82381821,-21.61361313 L -55.81401443,-21.61047173 L -55.81929398,-21.61646461 L -55.81809616,-21.62004471 L -55.80976486,-21.62120819 L -55.80720901,-21.62605667 L -55.81520462,-21.63141441 L -55.8130722,-21.63707161 L -55.8039856,-21.63190079 L -55.79812622,-21.63380432 L -55.80343246,-21.63617516 L -55.80412674,-21.64392281 L -55.8094635,-21.64057541 L -55.81082153,-21.64652061 L -55.81529617,-21.64352989 L -55.81796265,-21.64793205 L -55.82064819,-21.63738632 L -55.82726669,-21.6349926 L -55.8305397,-21.62665367 L -55.83893204,-21.62773895 L -55.84051514,-21.63596725 L -55.83257294,-21.63300323 L -55.83342743,-21.63825607 L -55.82759476,-21.64093018 L -55.83190536,-21.64745522 L -55.83129501,-21.65348434 L -55.8367691,-21.6554451 L -55.83535004,-21.65838814 L -55.82950974,-21.65677261 L -55.82817841,-21.66227531 L -55.83990097,-21.66007042 L -55.83834839,-21.65327072 L -55.8438797,-21.64616776 L -55.84926224,-21.64866257 L -55.84949112,-21.64377594 L -55.8542099,-21.64633942 L -55.85710144,-21.64346313 L -55.85962677,-21.65081406 L -55.85037613,-21.65410423 L -55.85426712,-21.66000748 L -55.84754181,-21.66226006 L -55.85048676,-21.66651726 L -55.84540558,-21.6690464 L -55.84581757,-21.68171883 L -55.84796143,-21.68453026 L -55.85129547,-21.67399979 L -55.85773468,-21.67495728 L -55.86013031,-21.66440582 L -55.86384583,-21.67229652 L -55.86334991,-21.68478394 L -55.86754608,-21.68483353 L -55.86915588,-21.68841743 L -55.86257172,-21.68750763 L -55.86207199,-21.69058037 L -55.87054825,-21.69220161 L -55.87287521,-21.68610764 L -55.86749268,-21.68003082 L -55.86837769,-21.67384529 L -55.87215042,-21.67425346 L -55.86862946,-21.65510941 L -55.88054657,-21.66366959 L -55.88607025,-21.68354988 L -55.89040756,-21.67134094 L -55.88245773,-21.65759659 L -55.88671494,-21.65502167 L -55.89593506,-21.67087173 L -55.90031815,-21.65204048 L -55.90395355,-21.65385818 L -55.90623474,-21.66333961 L -55.90512085,-21.67284966 L -55.91104507,-21.67511749 L -55.90548706,-21.68375206 L -55.9131813,-21.68217659 L -55.91582108,-21.68822861 L -55.92067719,-21.68440056 L -55.91890335,-21.67821693 L -55.92240143,-21.67599106 L -55.91879654,-21.66792679 L -55.92087555,-21.65473747 L -55.91559982,-21.64232445 L -55.92401886,-21.64703751 L -55.92624283,-21.66662025 L -55.92313004,-21.66878891 L -55.92631912,-21.67536736 L -55.93148804,-21.6776371 L -55.93656921,-21.66228485 L -55.94565201,-21.66246605 L -55.9419899,-21.64711189 L -55.95976639,-21.64997864 L -55.94790268,-21.63647652 L -55.95893478,-21.64295578 L -55.96359634,-21.63393593 L -55.97109604,-21.63847923 L -55.97204208,-21.64400291 L -55.96304703,-21.64836884 L -55.97454834,-21.65494919 L -55.97096252,-21.65760231 L -55.95965195,-21.65527916 L -55.95410156,-21.66175652 L -55.95707321,-21.66814613 L -55.95207214,-21.67122269 L -55.95293427,-21.67500305 L -55.94172287,-21.67261505 L -55.93984985,-21.67497444 L -55.94623566,-21.68080521 L -55.93490982,-21.6849556 L -55.94118118,-21.6906147 L -55.94865417,-21.68601227 L -55.95793533,-21.68815231 L -55.95291138,-21.68935013 L -55.94781876,-21.69634438 L -55.95310211,-21.70622826 L -55.94887543,-21.70940208 L -55.9515419,-21.7165699 L -55.9380455,-21.70846367 L -55.93829727,-21.7041378 L -55.93095779,-21.70757294 L -55.92882156,-21.69588089 L -55.92485046,-21.69954491 L -55.9226265,-21.71109962 L -55.9159317,-21.70488358 L -55.91415405,-21.71217155 L -55.90371323,-21.70454788 L -55.90609741,-21.70894051 L -55.90034485,-21.71297264 L -55.9099884,-21.71361732 L -55.91159821,-21.72118568 L -55.9171524,-21.71668816 L -55.93317795,-21.72112274 L -55.93157578,-21.72467041 L -55.92040634,-21.7286129 L -55.92505264,-21.73114967 L -55.9312706,-21.72889137 L -55.93474197,-21.73166084 L -55.93817902,-21.72785568 L -55.94501877,-21.7302227 L -55.94434738,-21.74138832 L -55.93704605,-21.73694038 L -55.92701721,-21.73722839 L -55.93015671,-21.7430954 L -55.92212677,-21.74256706 L -55.92159653,-21.73744583 L -55.91154099,-21.73163033 L -55.91301346,-21.74142647 L -55.90496063,-21.73846817 L -55.90213013,-21.74220276 L -55.89918518,-21.7380085 L -55.90046692,-21.73175812 L -55.89579773,-21.73560333 L -55.88232422,-21.73340988 L -55.88637543,-21.73653984 L -55.88429642,-21.73952675 L -55.89088058,-21.73885536 L -55.88887405,-21.7427063 L -55.89207077,-21.74624634 L -55.8870163,-21.75013924 L -55.88079453,-21.74972343 L -55.88254547,-21.75780869 L -55.89104843,-21.75513077 L -55.8937149,-21.76394844 L -55.87765503,-21.76172256 L -55.87593079,-21.76376343 L -55.88405991,-21.76787186 L -55.87718582,-21.76861382 L -55.87814713,-21.7762661 L -55.86162567,-21.77228355 L -55.86296082,-21.77616119 L -55.8622551,-21.77625275 L -55.86255264,-21.77811813 L -55.87268448,-21.78022957 L -55.87607574,-21.78531075 L -55.87446213,-21.79355431 L -55.88343811,-21.78468513 L -55.88479233,-21.77657127 L -55.89007187,-21.77753258 L -55.89627075,-21.77210808 L -55.90390778,-21.78031731 L -55.90765381,-21.76969337 L -55.91376877,-21.76761818 L -55.91696167,-21.77079582 L -55.91379166,-21.77437019 L -55.92026901,-21.77730179 L -55.92857361,-21.77056122 L -55.92923355,-21.77440643 L -55.93709946,-21.77636528 L -55.93751144,-21.77980995 L -55.92604446,-21.78484535 L -55.94221115,-21.78235435 L -55.96929169,-21.78647423 L -55.98034668,-21.78420448 L -55.98534775,-21.77949333 L -55.98593903,-21.76913261 L -56.00402069,-21.75372124 L -56.00274277,-21.7500515 L -56.01044083,-21.74893951 L -56.01440811,-21.73240662 L -56.02318192,-21.72967148 L -56.02199173,-21.72590637 L -56.02613068,-21.72131157 L -56.04251862,-21.7203064 L -56.04143143,-21.7164402 L -56.04815674,-21.71230316 L -56.04140854,-21.7080822 L -56.04260635,-21.70382118 L -56.04779816,-21.70392227 L -56.04901505,-21.69223213 L -56.06890869,-21.68593979 L -56.08240891,-21.6893177 L -56.08922577,-21.68677902 z\" /></g></g></svg>"
      ],
      "text/plain": [
       "<shapely.geometry.multipolygon.MultiPolygon at 0x7fa715b3b128>"
      ]
     },
     "execution_count": 173,
     "metadata": {},
     "output_type": "execute_result"
    }
   ],
   "source": [
    "#Get a random geometry to check it's all working as expected\n",
    "i = rand_id()\n",
    "print(i)\n",
    "get_shape_record(i).geometry"
   ]
  },
  {
   "cell_type": "markdown",
   "metadata": {},
   "source": [
    "### Gridded data functions"
   ]
  },
  {
   "cell_type": "code",
   "execution_count": 174,
   "metadata": {},
   "outputs": [],
   "source": [
    "def get_cell_method(cube, coord='time'):\n",
    "    '''\n",
    "    Get the cell method with coord in coord_names\n",
    "    '''\n",
    "    result = None\n",
    "    for method in cube.cell_methods:\n",
    "        if coord in method.coord_names:\n",
    "            result = method.method\n",
    "            break\n",
    "    \n",
    "    return result"
   ]
  },
  {
   "cell_type": "code",
   "execution_count": 175,
   "metadata": {},
   "outputs": [],
   "source": [
    "def parse_data_name(cube):\n",
    "    '''\n",
    "    Parse the name, cell methods and units in a cube to return a column name\n",
    "    To be used in a Pandas DataFrame\n",
    "    '''\n",
    "    name = cube.name()\n",
    "    time_method = get_cell_method(cube, 'time').replace('imum', '')\n",
    "    space_method = get_cell_method(cube, 'longitude')\n",
    "    units = cube.units\n",
    "    \n",
    "    if name == 'm01s01i202':\n",
    "        name = 'short_wave_radiation'\n",
    "        if space_method.startswith('var'):\n",
    "            units = 'W2 m-4'\n",
    "        else:\n",
    "            units = 'W m-2'\n",
    "    \n",
    "    if space_method:\n",
    "        result = f'{name}_{time_method}_{space_method.replace(\"imum\", \"\")} ({units})'\n",
    "    else:\n",
    "        result = f'{name}_{time_method} ({units})'\n",
    "    \n",
    "    return result"
   ]
  },
  {
   "cell_type": "code",
   "execution_count": 176,
   "metadata": {},
   "outputs": [],
   "source": [
    "def get_date(dt):\n",
    "    '''\n",
    "    Return date from datetime-like object dt\n",
    "    '''\n",
    "    return datetime.date(dt.year, dt.month, dt.day)"
   ]
  },
  {
   "cell_type": "code",
   "execution_count": 195,
   "metadata": {},
   "outputs": [
    {
     "data": {
      "text/plain": [
       "['a', 1, 2, 3, 'butt']"
      ]
     },
     "execution_count": 195,
     "metadata": {},
     "output_type": "execute_result"
    }
   ],
   "source": [
    "tup = (1,2,3)\n",
    "['a']+list(tup)+['butt']"
   ]
  },
  {
   "cell_type": "code",
   "execution_count": 206,
   "metadata": {},
   "outputs": [],
   "source": [
    "def get_column_order(start, end):\n",
    "    '''\n",
    "    \n",
    "    '''\n",
    "    starts = tuple(start)\n",
    "    \n",
    "    ends = tuple(sorted([c for c in end if c not in starts]))\n",
    "    \n",
    "    return starts+ends"
   ]
  },
  {
   "cell_type": "code",
   "execution_count": 207,
   "metadata": {},
   "outputs": [],
   "source": [
    "def extract_collapse_df(shape_id, cubes=shape_cubes, **kwargs):\n",
    "    '''\n",
    "    Extract subcubes from cubes using geometry of shape_id\n",
    "    Collapse the cube acros x and y coords to get the MEAN and VARIANCE\n",
    "    Collect data in a dataframe for this shape_id\n",
    "    \n",
    "    Extract method:\n",
    "        Extracts XY bounding box around geometry\n",
    "        Refer to [Method](#Method) at top of this notebook for detailed description\n",
    "        \n",
    "    Arguments:\n",
    "        shape_id (str): ID of geometry used for subsetting\n",
    "        cubes (iris.CubeList): List of Iris cubes to be subsetted\n",
    "        \n",
    "    Returns: \n",
    "        df (pandas.DataFrame): DataFrame containing shape_id attributes \n",
    "                               and MEAN+VARIANCE of data in cubes for shape_id geometry\n",
    "    '''\n",
    "    #Create a Shape object from the record for shape_id\n",
    "    region = get_shape_record(shape_id, **kwargs)\n",
    "    shp = shape.Shape(region.geometry, region.attributes, coord_system=CRS)\n",
    "    \n",
    "    #Extract sub_cubes from cubes using shp\n",
    "    sub_cubes = shp.extract_subcubes(cubes)\n",
    "    \n",
    "    #Collapse cubes across x and y coords with to get mean and variance\n",
    "    mean_cubes = [cube.collapsed([cube.coord(axis='x'),cube.coord(axis='y')], iris.analysis.MEAN) for cube in sub_cubes]\n",
    "    var_cubes = [cube.collapsed([cube.coord(axis='x'),cube.coord(axis='y')], iris.analysis.VARIANCE) for cube in sub_cubes]\n",
    "    \n",
    "    #Line up data and column names for Pandas DataFrame\n",
    "    time = mean_cubes[0].coord('time')\n",
    "    length = len(time.points)\n",
    "    data = {'shapefile': [shape_name]*length}\n",
    "    data.update({name: [region.attributes[name]]*length for name in SHAPE_ATTRS})\n",
    "    data.update({'date': [get_date(cell.point) for cell in time.cells()]})\n",
    "    data.update({parse_data_name(cube): cube.data for cube in mean_cubes})\n",
    "    data.update({parse_data_name(cube): cube.data for cube in var_cubes})\n",
    "    \n",
    "    #Get a column order so that all dataframes have the same column order\n",
    "    column_order = get_column_order(['shapefile']+list(SHAPE_ATTRS)+['date'], end=data.keys())\n",
    "    \n",
    "    #Create DataFrame\n",
    "    df = pd.DataFrame(data, columns=column_order)\n",
    "\n",
    "    return df"
   ]
  },
  {
   "cell_type": "code",
   "execution_count": 210,
   "metadata": {},
   "outputs": [
    {
     "name": "stdout",
     "output_type": "stream",
     "text": [
      "CPU times: user 3.44 s, sys: 3.74 s, total: 7.18 s\n",
      "Wall time: 4.43 s\n"
     ]
    },
    {
     "data": {
      "text/html": [
       "<div>\n",
       "<style scoped>\n",
       "    .dataframe tbody tr th:only-of-type {\n",
       "        vertical-align: middle;\n",
       "    }\n",
       "\n",
       "    .dataframe tbody tr th {\n",
       "        vertical-align: top;\n",
       "    }\n",
       "\n",
       "    .dataframe thead th {\n",
       "        text-align: right;\n",
       "    }\n",
       "</style>\n",
       "<table border=\"1\" class=\"dataframe\">\n",
       "  <thead>\n",
       "    <tr style=\"text-align: right;\">\n",
       "      <th></th>\n",
       "      <th>shapefile</th>\n",
       "      <th>GID_2</th>\n",
       "      <th>HASC_2</th>\n",
       "      <th>NAME_0</th>\n",
       "      <th>NAME_1</th>\n",
       "      <th>NAME_2</th>\n",
       "      <th>ENGTYPE_2</th>\n",
       "      <th>date</th>\n",
       "      <th>air_temperature_max_mean (K)</th>\n",
       "      <th>air_temperature_max_variance (K2)</th>\n",
       "      <th>...</th>\n",
       "      <th>short_wave_radiation_max_mean (W m-2)</th>\n",
       "      <th>short_wave_radiation_max_variance (W2 m-4)</th>\n",
       "      <th>short_wave_radiation_mean_mean (W m-2)</th>\n",
       "      <th>short_wave_radiation_mean_variance (W2 m-4)</th>\n",
       "      <th>specific_humidity_max_mean (1)</th>\n",
       "      <th>specific_humidity_max_variance (1)</th>\n",
       "      <th>specific_humidity_mean_mean (1)</th>\n",
       "      <th>specific_humidity_mean_variance (1)</th>\n",
       "      <th>specific_humidity_min_mean (1)</th>\n",
       "      <th>specific_humidity_min_variance (1)</th>\n",
       "    </tr>\n",
       "  </thead>\n",
       "  <tbody>\n",
       "    <tr>\n",
       "      <th>0</th>\n",
       "      <td>gadm36_BRA_2</td>\n",
       "      <td>BRA.13.47_1</td>\n",
       "      <td></td>\n",
       "      <td>Brazil</td>\n",
       "      <td>Minas Gerais</td>\n",
       "      <td>Argirita</td>\n",
       "      <td>Municipality</td>\n",
       "      <td>2020-03-01</td>\n",
       "      <td>298.432281</td>\n",
       "      <td>0.247314</td>\n",
       "      <td>...</td>\n",
       "      <td>683.947937</td>\n",
       "      <td>3180.394043</td>\n",
       "      <td>144.697403</td>\n",
       "      <td>508.321564</td>\n",
       "      <td>0.016954</td>\n",
       "      <td>1.655685e-07</td>\n",
       "      <td>0.016380</td>\n",
       "      <td>9.659319e-08</td>\n",
       "      <td>0.015652</td>\n",
       "      <td>1.258320e-07</td>\n",
       "    </tr>\n",
       "    <tr>\n",
       "      <th>1</th>\n",
       "      <td>gadm36_BRA_2</td>\n",
       "      <td>BRA.13.47_1</td>\n",
       "      <td></td>\n",
       "      <td>Brazil</td>\n",
       "      <td>Minas Gerais</td>\n",
       "      <td>Argirita</td>\n",
       "      <td>Municipality</td>\n",
       "      <td>2020-03-02</td>\n",
       "      <td>293.017365</td>\n",
       "      <td>0.085598</td>\n",
       "      <td>...</td>\n",
       "      <td>171.824646</td>\n",
       "      <td>5696.781250</td>\n",
       "      <td>34.876877</td>\n",
       "      <td>22.841606</td>\n",
       "      <td>0.014648</td>\n",
       "      <td>1.490116e-08</td>\n",
       "      <td>0.013954</td>\n",
       "      <td>3.039155e-08</td>\n",
       "      <td>0.013129</td>\n",
       "      <td>7.119444e-08</td>\n",
       "    </tr>\n",
       "    <tr>\n",
       "      <th>2</th>\n",
       "      <td>gadm36_BRA_2</td>\n",
       "      <td>BRA.13.47_1</td>\n",
       "      <td></td>\n",
       "      <td>Brazil</td>\n",
       "      <td>Minas Gerais</td>\n",
       "      <td>Argirita</td>\n",
       "      <td>Municipality</td>\n",
       "      <td>2020-03-03</td>\n",
       "      <td>297.921875</td>\n",
       "      <td>0.308716</td>\n",
       "      <td>...</td>\n",
       "      <td>642.821167</td>\n",
       "      <td>5305.313965</td>\n",
       "      <td>128.272141</td>\n",
       "      <td>284.871826</td>\n",
       "      <td>0.016791</td>\n",
       "      <td>1.904037e-07</td>\n",
       "      <td>0.014983</td>\n",
       "      <td>3.198692e-08</td>\n",
       "      <td>0.013997</td>\n",
       "      <td>1.490116e-08</td>\n",
       "    </tr>\n",
       "    <tr>\n",
       "      <th>3</th>\n",
       "      <td>gadm36_BRA_2</td>\n",
       "      <td>BRA.13.47_1</td>\n",
       "      <td></td>\n",
       "      <td>Brazil</td>\n",
       "      <td>Minas Gerais</td>\n",
       "      <td>Argirita</td>\n",
       "      <td>Municipality</td>\n",
       "      <td>2020-03-04</td>\n",
       "      <td>300.630219</td>\n",
       "      <td>0.546448</td>\n",
       "      <td>...</td>\n",
       "      <td>795.927063</td>\n",
       "      <td>219.314270</td>\n",
       "      <td>207.428314</td>\n",
       "      <td>143.500793</td>\n",
       "      <td>0.017931</td>\n",
       "      <td>1.059638e-07</td>\n",
       "      <td>0.015860</td>\n",
       "      <td>6.367777e-08</td>\n",
       "      <td>0.014920</td>\n",
       "      <td>2.152390e-08</td>\n",
       "    </tr>\n",
       "    <tr>\n",
       "      <th>4</th>\n",
       "      <td>gadm36_BRA_2</td>\n",
       "      <td>BRA.13.47_1</td>\n",
       "      <td></td>\n",
       "      <td>Brazil</td>\n",
       "      <td>Minas Gerais</td>\n",
       "      <td>Argirita</td>\n",
       "      <td>Municipality</td>\n",
       "      <td>2020-03-05</td>\n",
       "      <td>300.300354</td>\n",
       "      <td>0.299059</td>\n",
       "      <td>...</td>\n",
       "      <td>754.791687</td>\n",
       "      <td>979.715820</td>\n",
       "      <td>204.176208</td>\n",
       "      <td>103.746292</td>\n",
       "      <td>0.016466</td>\n",
       "      <td>8.808242e-07</td>\n",
       "      <td>0.014664</td>\n",
       "      <td>4.163299e-07</td>\n",
       "      <td>0.013102</td>\n",
       "      <td>6.854534e-07</td>\n",
       "    </tr>\n",
       "    <tr>\n",
       "      <th>5</th>\n",
       "      <td>gadm36_BRA_2</td>\n",
       "      <td>BRA.13.47_1</td>\n",
       "      <td></td>\n",
       "      <td>Brazil</td>\n",
       "      <td>Minas Gerais</td>\n",
       "      <td>Argirita</td>\n",
       "      <td>Municipality</td>\n",
       "      <td>2020-03-06</td>\n",
       "      <td>299.680542</td>\n",
       "      <td>0.549201</td>\n",
       "      <td>...</td>\n",
       "      <td>835.699646</td>\n",
       "      <td>329.806793</td>\n",
       "      <td>246.210510</td>\n",
       "      <td>14.484983</td>\n",
       "      <td>0.015842</td>\n",
       "      <td>1.973576e-06</td>\n",
       "      <td>0.013015</td>\n",
       "      <td>3.355893e-07</td>\n",
       "      <td>0.011882</td>\n",
       "      <td>7.450581e-08</td>\n",
       "    </tr>\n",
       "    <tr>\n",
       "      <th>6</th>\n",
       "      <td>gadm36_BRA_2</td>\n",
       "      <td>BRA.13.47_1</td>\n",
       "      <td></td>\n",
       "      <td>Brazil</td>\n",
       "      <td>Minas Gerais</td>\n",
       "      <td>Argirita</td>\n",
       "      <td>Municipality</td>\n",
       "      <td>2020-03-07</td>\n",
       "      <td>297.213531</td>\n",
       "      <td>0.663757</td>\n",
       "      <td>...</td>\n",
       "      <td>763.112854</td>\n",
       "      <td>1224.312012</td>\n",
       "      <td>199.226852</td>\n",
       "      <td>155.045471</td>\n",
       "      <td>0.015272</td>\n",
       "      <td>7.616149e-08</td>\n",
       "      <td>0.014206</td>\n",
       "      <td>1.148400e-07</td>\n",
       "      <td>0.013428</td>\n",
       "      <td>2.533197e-07</td>\n",
       "    </tr>\n",
       "    <tr>\n",
       "      <th>7</th>\n",
       "      <td>gadm36_BRA_2</td>\n",
       "      <td>BRA.13.47_1</td>\n",
       "      <td></td>\n",
       "      <td>Brazil</td>\n",
       "      <td>Minas Gerais</td>\n",
       "      <td>Argirita</td>\n",
       "      <td>Municipality</td>\n",
       "      <td>2020-03-08</td>\n",
       "      <td>299.515625</td>\n",
       "      <td>0.299683</td>\n",
       "      <td>...</td>\n",
       "      <td>804.630188</td>\n",
       "      <td>909.358459</td>\n",
       "      <td>240.652771</td>\n",
       "      <td>74.814987</td>\n",
       "      <td>0.014160</td>\n",
       "      <td>1.192093e-07</td>\n",
       "      <td>0.013254</td>\n",
       "      <td>3.718687e-08</td>\n",
       "      <td>0.012478</td>\n",
       "      <td>2.152390e-08</td>\n",
       "    </tr>\n",
       "    <tr>\n",
       "      <th>8</th>\n",
       "      <td>gadm36_BRA_2</td>\n",
       "      <td>BRA.13.47_1</td>\n",
       "      <td></td>\n",
       "      <td>Brazil</td>\n",
       "      <td>Minas Gerais</td>\n",
       "      <td>Argirita</td>\n",
       "      <td>Municipality</td>\n",
       "      <td>2020-03-09</td>\n",
       "      <td>300.586792</td>\n",
       "      <td>0.360114</td>\n",
       "      <td>...</td>\n",
       "      <td>794.130188</td>\n",
       "      <td>1295.260132</td>\n",
       "      <td>219.336243</td>\n",
       "      <td>105.678177</td>\n",
       "      <td>0.015435</td>\n",
       "      <td>1.904037e-07</td>\n",
       "      <td>0.014274</td>\n",
       "      <td>6.772214e-08</td>\n",
       "      <td>0.013373</td>\n",
       "      <td>2.053049e-07</td>\n",
       "    </tr>\n",
       "    <tr>\n",
       "      <th>9</th>\n",
       "      <td>gadm36_BRA_2</td>\n",
       "      <td>BRA.13.47_1</td>\n",
       "      <td></td>\n",
       "      <td>Brazil</td>\n",
       "      <td>Minas Gerais</td>\n",
       "      <td>Argirita</td>\n",
       "      <td>Municipality</td>\n",
       "      <td>2020-03-10</td>\n",
       "      <td>300.663208</td>\n",
       "      <td>0.240119</td>\n",
       "      <td>...</td>\n",
       "      <td>817.005188</td>\n",
       "      <td>212.402466</td>\n",
       "      <td>234.199432</td>\n",
       "      <td>63.434578</td>\n",
       "      <td>0.015327</td>\n",
       "      <td>1.457002e-07</td>\n",
       "      <td>0.014551</td>\n",
       "      <td>7.621605e-08</td>\n",
       "      <td>0.013536</td>\n",
       "      <td>1.506673e-07</td>\n",
       "    </tr>\n",
       "    <tr>\n",
       "      <th>10</th>\n",
       "      <td>gadm36_BRA_2</td>\n",
       "      <td>BRA.13.47_1</td>\n",
       "      <td></td>\n",
       "      <td>Brazil</td>\n",
       "      <td>Minas Gerais</td>\n",
       "      <td>Argirita</td>\n",
       "      <td>Municipality</td>\n",
       "      <td>2020-03-11</td>\n",
       "      <td>300.435760</td>\n",
       "      <td>0.412625</td>\n",
       "      <td>...</td>\n",
       "      <td>801.317688</td>\n",
       "      <td>1231.621582</td>\n",
       "      <td>207.449722</td>\n",
       "      <td>411.607819</td>\n",
       "      <td>0.015082</td>\n",
       "      <td>1.158979e-07</td>\n",
       "      <td>0.014187</td>\n",
       "      <td>8.477622e-08</td>\n",
       "      <td>0.013211</td>\n",
       "      <td>3.642506e-08</td>\n",
       "    </tr>\n",
       "  </tbody>\n",
       "</table>\n",
       "<p>11 rows × 26 columns</p>\n",
       "</div>"
      ],
      "text/plain": [
       "       shapefile        GID_2 HASC_2  NAME_0        NAME_1    NAME_2  \\\n",
       "0   gadm36_BRA_2  BRA.13.47_1         Brazil  Minas Gerais  Argirita   \n",
       "1   gadm36_BRA_2  BRA.13.47_1         Brazil  Minas Gerais  Argirita   \n",
       "2   gadm36_BRA_2  BRA.13.47_1         Brazil  Minas Gerais  Argirita   \n",
       "3   gadm36_BRA_2  BRA.13.47_1         Brazil  Minas Gerais  Argirita   \n",
       "4   gadm36_BRA_2  BRA.13.47_1         Brazil  Minas Gerais  Argirita   \n",
       "5   gadm36_BRA_2  BRA.13.47_1         Brazil  Minas Gerais  Argirita   \n",
       "6   gadm36_BRA_2  BRA.13.47_1         Brazil  Minas Gerais  Argirita   \n",
       "7   gadm36_BRA_2  BRA.13.47_1         Brazil  Minas Gerais  Argirita   \n",
       "8   gadm36_BRA_2  BRA.13.47_1         Brazil  Minas Gerais  Argirita   \n",
       "9   gadm36_BRA_2  BRA.13.47_1         Brazil  Minas Gerais  Argirita   \n",
       "10  gadm36_BRA_2  BRA.13.47_1         Brazil  Minas Gerais  Argirita   \n",
       "\n",
       "       ENGTYPE_2        date  air_temperature_max_mean (K)  \\\n",
       "0   Municipality  2020-03-01                    298.432281   \n",
       "1   Municipality  2020-03-02                    293.017365   \n",
       "2   Municipality  2020-03-03                    297.921875   \n",
       "3   Municipality  2020-03-04                    300.630219   \n",
       "4   Municipality  2020-03-05                    300.300354   \n",
       "5   Municipality  2020-03-06                    299.680542   \n",
       "6   Municipality  2020-03-07                    297.213531   \n",
       "7   Municipality  2020-03-08                    299.515625   \n",
       "8   Municipality  2020-03-09                    300.586792   \n",
       "9   Municipality  2020-03-10                    300.663208   \n",
       "10  Municipality  2020-03-11                    300.435760   \n",
       "\n",
       "    air_temperature_max_variance (K2)  ...  \\\n",
       "0                            0.247314  ...   \n",
       "1                            0.085598  ...   \n",
       "2                            0.308716  ...   \n",
       "3                            0.546448  ...   \n",
       "4                            0.299059  ...   \n",
       "5                            0.549201  ...   \n",
       "6                            0.663757  ...   \n",
       "7                            0.299683  ...   \n",
       "8                            0.360114  ...   \n",
       "9                            0.240119  ...   \n",
       "10                           0.412625  ...   \n",
       "\n",
       "    short_wave_radiation_max_mean (W m-2)  \\\n",
       "0                              683.947937   \n",
       "1                              171.824646   \n",
       "2                              642.821167   \n",
       "3                              795.927063   \n",
       "4                              754.791687   \n",
       "5                              835.699646   \n",
       "6                              763.112854   \n",
       "7                              804.630188   \n",
       "8                              794.130188   \n",
       "9                              817.005188   \n",
       "10                             801.317688   \n",
       "\n",
       "    short_wave_radiation_max_variance (W2 m-4)  \\\n",
       "0                                  3180.394043   \n",
       "1                                  5696.781250   \n",
       "2                                  5305.313965   \n",
       "3                                   219.314270   \n",
       "4                                   979.715820   \n",
       "5                                   329.806793   \n",
       "6                                  1224.312012   \n",
       "7                                   909.358459   \n",
       "8                                  1295.260132   \n",
       "9                                   212.402466   \n",
       "10                                 1231.621582   \n",
       "\n",
       "    short_wave_radiation_mean_mean (W m-2)  \\\n",
       "0                               144.697403   \n",
       "1                                34.876877   \n",
       "2                               128.272141   \n",
       "3                               207.428314   \n",
       "4                               204.176208   \n",
       "5                               246.210510   \n",
       "6                               199.226852   \n",
       "7                               240.652771   \n",
       "8                               219.336243   \n",
       "9                               234.199432   \n",
       "10                              207.449722   \n",
       "\n",
       "    short_wave_radiation_mean_variance (W2 m-4)  \\\n",
       "0                                    508.321564   \n",
       "1                                     22.841606   \n",
       "2                                    284.871826   \n",
       "3                                    143.500793   \n",
       "4                                    103.746292   \n",
       "5                                     14.484983   \n",
       "6                                    155.045471   \n",
       "7                                     74.814987   \n",
       "8                                    105.678177   \n",
       "9                                     63.434578   \n",
       "10                                   411.607819   \n",
       "\n",
       "    specific_humidity_max_mean (1)  specific_humidity_max_variance (1)  \\\n",
       "0                         0.016954                        1.655685e-07   \n",
       "1                         0.014648                        1.490116e-08   \n",
       "2                         0.016791                        1.904037e-07   \n",
       "3                         0.017931                        1.059638e-07   \n",
       "4                         0.016466                        8.808242e-07   \n",
       "5                         0.015842                        1.973576e-06   \n",
       "6                         0.015272                        7.616149e-08   \n",
       "7                         0.014160                        1.192093e-07   \n",
       "8                         0.015435                        1.904037e-07   \n",
       "9                         0.015327                        1.457002e-07   \n",
       "10                        0.015082                        1.158979e-07   \n",
       "\n",
       "    specific_humidity_mean_mean (1)  specific_humidity_mean_variance (1)  \\\n",
       "0                          0.016380                         9.659319e-08   \n",
       "1                          0.013954                         3.039155e-08   \n",
       "2                          0.014983                         3.198692e-08   \n",
       "3                          0.015860                         6.367777e-08   \n",
       "4                          0.014664                         4.163299e-07   \n",
       "5                          0.013015                         3.355893e-07   \n",
       "6                          0.014206                         1.148400e-07   \n",
       "7                          0.013254                         3.718687e-08   \n",
       "8                          0.014274                         6.772214e-08   \n",
       "9                          0.014551                         7.621605e-08   \n",
       "10                         0.014187                         8.477622e-08   \n",
       "\n",
       "    specific_humidity_min_mean (1)  specific_humidity_min_variance (1)  \n",
       "0                         0.015652                        1.258320e-07  \n",
       "1                         0.013129                        7.119444e-08  \n",
       "2                         0.013997                        1.490116e-08  \n",
       "3                         0.014920                        2.152390e-08  \n",
       "4                         0.013102                        6.854534e-07  \n",
       "5                         0.011882                        7.450581e-08  \n",
       "6                         0.013428                        2.533197e-07  \n",
       "7                         0.012478                        2.152390e-08  \n",
       "8                         0.013373                        2.053049e-07  \n",
       "9                         0.013536                        1.506673e-07  \n",
       "10                        0.013211                        3.642506e-08  \n",
       "\n",
       "[11 rows x 26 columns]"
      ]
     },
     "execution_count": 210,
     "metadata": {},
     "output_type": "execute_result"
    }
   ],
   "source": [
    "%%time\n",
    "cblst = shape_cubes\n",
    "extract_collapse_df(rand_id(), cblst)"
   ]
  },
  {
   "cell_type": "markdown",
   "metadata": {},
   "source": [
    "## 8. Loop through all the regions in the shapefile; subsetting, collapsing, and saving each Pandas DataFrame to CSV for each region."
   ]
  },
  {
   "cell_type": "code",
   "execution_count": null,
   "metadata": {},
   "outputs": [],
   "source": []
  },
  {
   "cell_type": "code",
   "execution_count": null,
   "metadata": {},
   "outputs": [],
   "source": [
    "%%time\n",
    "#This will loop through all the region IDs, executing extract_collapse_df for each region and saving it to a CSV file\n",
    "#Any errors will be caught and printed, but the loop will continue onto the next ID\n",
    "#Files are writen to /data/share/\n",
    "start = len(csvs)\n",
    "stop = len(region_ids)\n",
    "for shape_id in unwritten[start:]:\n",
    "    try:\n",
    "        df = extract_collapse_df(shape_id)\n",
    "        fname = df['fips'][0]\n",
    "        county = df['county_name'][0]\n",
    "        state = df['state_name'][0]\n",
    "        df.to_csv(f'/data/share/us_data/us_{fname}_daily_data_2020jan-mar.csv', index=False)\n",
    "        print(f'  [{shape_id}] {fname}, {county}, {state}: Success')\n",
    "    except Exception as e:\n",
    "        print(f'x [{shape_id}] {fname}, {county}, {state}: Error \\n  x  {e}')"
   ]
  },
  {
   "cell_type": "markdown",
   "metadata": {},
   "source": [
    "## 6. Load all the region CSVs, collate into one large DataFrame and save out to CSV."
   ]
  },
  {
   "cell_type": "code",
   "execution_count": null,
   "metadata": {},
   "outputs": [],
   "source": [
    "#List all the csvs in /data/share/us_data/\n",
    "csvs = glob.glob('/data/share/us_data/*.csv')\n",
    "len(csvs)"
   ]
  },
  {
   "cell_type": "code",
   "execution_count": null,
   "metadata": {},
   "outputs": [],
   "source": [
    "%%time\n",
    "#Now load all the CSVs for each region and combine into one large dataframe\n",
    "df = pd.concat([pd.read_csv(csv) for csv in csvs], ignore_index=True)\n",
    "df"
   ]
  },
  {
   "cell_type": "code",
   "execution_count": null,
   "metadata": {},
   "outputs": [],
   "source": [
    "#And save to a CSV\n",
    "fname_write = '/data/share/us_daily_precipdata_2020jan-mar_v01.csv'\n",
    "Mdf.to_csv(fname_write, index=False)"
   ]
  },
  {
   "cell_type": "code",
   "execution_count": null,
   "metadata": {},
   "outputs": [],
   "source": [
    "#We can read it back in to check that it wrote correctly\n",
    "pd.read_csv(fname_write)"
   ]
  }
 ],
 "metadata": {
  "kernelspec": {
   "display_name": "Python (cloudreadydata)",
   "language": "python",
   "name": "cloudreadydata"
  },
  "language_info": {
   "codemirror_mode": {
    "name": "ipython",
    "version": 3
   },
   "file_extension": ".py",
   "mimetype": "text/x-python",
   "name": "python",
   "nbconvert_exporter": "python",
   "pygments_lexer": "ipython3",
   "version": "3.6.10"
  }
 },
 "nbformat": 4,
 "nbformat_minor": 4
}
