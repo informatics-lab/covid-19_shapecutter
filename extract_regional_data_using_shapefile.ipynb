{
 "cells": [
  {
   "cell_type": "markdown",
   "metadata": {},
   "source": [
    "# Extracting regional values from Met Office Global meteorological data\n",
    "\n",
    "## Process\n",
    "This notebook runs you through how to extract spatial mean values from gridded data using shapefiles. The process includes:\n",
    "\n",
    "1. Load the Shapefile for the regions we want to subset with.\n",
    "2. Determine the full lat-lon extent of the shapefile.\n",
    "3. Use lookup table shapefile_attributes.json to determine what geometry attributes we want to use for this shapefile.\n",
    "4. Use daterange to generate filenames of NetCDFs we want to load\n",
    "5. Load gridded data from NetCDF files into memory using Iris (using [lazy loading](https://scitools.org.uk/iris/docs/latest/userguide/real_and_lazy_data.html)).\n",
    "6. Subset the data to only the extent of the shapefile, improving the processing time.\n",
    "7. Define the functions to be used in the pipeline.\n",
    "8. Loop through all the regions in the shapefile; subsetting, collapsing and generating a Pandas DataFrame for each region.\n",
    "9. Each DataFrame is saved to CSV in a temporary location.\n",
    "10. Collate all the region DataFrames into one DataFrame and save out to CSV\n",
    "11. Delete the temporary files.\n",
    "\n",
    "## Method\n",
    "This process uses the polygon of a region (from the shapefile) to subset the gridded data by getting the **latitude-longitude bounding box** of the polygon, as described in this diagram:\n",
    "\n",
    "<img src=\"images/coarse_spatial_mean_gridded.png\" alt=\"Lat-Lon bounding box using polygon\" style=\"height: 400px;\"/> \n",
    "\n",
    "Each grid cell (small latitude-longitude box) contains a single value for a meteorological variable. The single value of that variable for the whole region/polygon is the mean of all the grid cell values in the bounding box i.e. lat-lon spatial mean.\n",
    "\n",
    "For example, here we have air temperature values in a bounding box that covers the a polygon. The temperature value for the region is the mean value of the temperatures in the boundind box - 20.9°C.\n",
    "\n",
    "<img src=\"images/spatial_mean_example.png\" alt=\"The mean value for the temperature is 20.9°C\" style=\"height: 400px;\"/> \n",
    "\n",
    "#### Time\n",
    "Of course we have ignored the time axis in this example, which is present in the gridded data but is handled for us by the Iris library as just another dimension. In this notebook we use daily data and will simply store the date for each value in the final tabular data.\n",
    "\n",
    "#### Improvements\n",
    "This process could be more accurate by only using the grid cells which actually overlap with the polygon and by weighting the grid cells according to how much of their area is within the polygon. Improvements like these are coming."
   ]
  },
  {
   "cell_type": "markdown",
   "metadata": {},
   "source": [
    "## Setup"
   ]
  },
  {
   "cell_type": "code",
   "execution_count": 1,
   "metadata": {},
   "outputs": [],
   "source": [
    "#Data\n",
    "import iris\n",
    "import cartopy.io.shapereader as shpreader\n",
    "import pandas as pd\n",
    "import cftime\n",
    "import datetime\n",
    "\n",
    "#Plotting\n",
    "import cartopy\n",
    "import cartopy.crs as ccrs\n",
    "import iris.plot as iplt\n",
    "import iris.quickplot as qplt\n",
    "import matplotlib.pyplot as plt\n",
    "%matplotlib inline\n",
    "\n",
    "#System\n",
    "import os\n",
    "import sys\n",
    "import glob\n",
    "import json\n",
    "\n",
    "#Met Office utils\n",
    "import shape_utils as shape\n",
    "\n",
    "#Supress warnings\n",
    "import warnings\n",
    "warnings.filterwarnings('ignore')"
   ]
  },
  {
   "cell_type": "markdown",
   "metadata": {},
   "source": [
    "### 1. Load shapefile containing region polygons"
   ]
  },
  {
   "cell_type": "code",
   "execution_count": 78,
   "metadata": {
    "tags": [
     "parameters"
    ]
   },
   "outputs": [],
   "source": [
    "#Define shapefile path\n",
    "# SHAPEFILE = '../covid-19/it_shapefiles/gadm36_ITA_2.shp'\n",
    "SHAPEFILE = '../covid-19/uk_shapefiles/UK_covid_reporting_regions.shp'\n",
    "# SHAPEFILE = '../covid-19/us_shapefiles/US_COUNTY_POP.shx'\n",
    "# SHAPEFILE = '../covid-19/ug_shapefiles/gadm36_Uganda_2.shp'\n",
    "# SHAPEFILE = '../covid-19/vt_shapefiles/gadm36_Vietnam_2.shp'\n",
    "# SHAPEFILE = '../covid-19/br_shapefiles/gadm36_BRA_2.shp'"
   ]
  },
  {
   "cell_type": "code",
   "execution_count": 79,
   "metadata": {},
   "outputs": [
    {
     "data": {
      "text/plain": [
       "'UK_covid_reporting_regions'"
      ]
     },
     "execution_count": 79,
     "metadata": {},
     "output_type": "execute_result"
    }
   ],
   "source": [
    "#Get shapefile name\n",
    "SHAPEFILE_NAME = SHAPEFILE.split('/')[-1].split('.')[-2]\n",
    "SHAPEFILE_NAME"
   ]
  },
  {
   "cell_type": "code",
   "execution_count": 80,
   "metadata": {},
   "outputs": [],
   "source": [
    "#Load the shapefile\n",
    "shape_reader = shpreader.Reader(SHAPEFILE)"
   ]
  },
  {
   "cell_type": "code",
   "execution_count": 81,
   "metadata": {},
   "outputs": [
    {
     "data": {
      "text/plain": [
       "183"
      ]
     },
     "execution_count": 81,
     "metadata": {},
     "output_type": "execute_result"
    }
   ],
   "source": [
    "#How many regions are included?\n",
    "len([record for record in shape_reader.records()])"
   ]
  },
  {
   "cell_type": "code",
   "execution_count": 82,
   "metadata": {},
   "outputs": [
    {
     "data": {
      "text/plain": [
       "<Record: <shapely.geometry.multipolygon.MultiPolygon object at 0x7fea0888bba8>, {'code': 'E06000001', 'name': 'Hartlepool', 'area': 96512310.8872846, 'out_code': 'E06000001'}, <fields>>"
      ]
     },
     "execution_count": 82,
     "metadata": {},
     "output_type": "execute_result"
    }
   ],
   "source": [
    "#Let's take a look at one\n",
    "next(shape_reader.records())"
   ]
  },
  {
   "cell_type": "code",
   "execution_count": 83,
   "metadata": {},
   "outputs": [
    {
     "data": {
      "image/svg+xml": [
       "<svg xmlns=\"http://www.w3.org/2000/svg\" xmlns:xlink=\"http://www.w3.org/1999/xlink\" width=\"100.0\" height=\"100.0\" viewBox=\"-1.3898252958265436 54.612758410443384 0.24102844657866718 0.12333725684053576\" preserveAspectRatio=\"xMinYMin meet\"><g transform=\"matrix(1,0,0,-1,0,109.34885407772731)\"><g><path fill-rule=\"evenodd\" fill=\"#66cc99\" stroke=\"#555555\" stroke-width=\"0.0048205689315733435\" opacity=\"0.6\" d=\"M -1.17763328634219,54.6991864051642 L -1.17398117675391,54.6918238899294 L -1.19632938053034,54.6985649676233 L -1.18750965082326,54.6939094540718 L -1.19909662654518,54.6805499346807 L -1.18279969615044,54.6588044069678 L -1.15772382875079,54.6481937607109 L -1.16844628689693,54.645620252678 L -1.17320740842152,54.6334571767527 L -1.18876265284135,54.6326511071375 L -1.193189877532,54.6290526367232 L -1.20939328414684,54.6216853899463 L -1.23421016009636,54.6288778540597 L -1.25671733879395,54.6233509242195 L -1.29901427298173,54.6279818884868 L -1.31636432536428,54.6452348524527 L -1.32886363882166,54.6440016092939 L -1.33506092900011,54.6313239680584 L -1.38089831632363,54.6439170683557 L -1.34125422761501,54.6502118986462 L -1.34785151195242,54.6624209272144 L -1.33094576833901,54.6821336618463 L -1.34452598374791,54.6911209127219 L -1.31932937291836,54.6913568469572 L -1.30132668031215,54.7081010499937 L -1.30552089363155,54.7175215633233 L -1.2702517668578,54.727168687781 L -1.24283952060187,54.722263899539 L -1.17763328634219,54.6991864051642 z\" /></g></g></svg>"
      ],
      "text/plain": [
       "<shapely.geometry.multipolygon.MultiPolygon at 0x7fea08be9d68>"
      ]
     },
     "execution_count": 83,
     "metadata": {},
     "output_type": "execute_result"
    }
   ],
   "source": [
    "next(shape_reader.geometries())"
   ]
  },
  {
   "cell_type": "markdown",
   "metadata": {},
   "source": [
    "## 2. Determine the full lat-lon extent of the shapefile\n",
    "\n",
    "First we need some functions to help us"
   ]
  },
  {
   "cell_type": "code",
   "execution_count": 84,
   "metadata": {},
   "outputs": [],
   "source": [
    "def get_shapefile_extent(shape_reader, buffer=0, **kwargs):\n",
    "    '''\n",
    "    Get the extent (x1, x2, y1, y2) of the union of all the polygons\n",
    "    in a shapefile reader object, with an optional buffer added on.\n",
    "    \n",
    "    Arguments:\n",
    "        shape_reader (cartopy.io.shapereader): Shapefile reader object\n",
    "        buffer (num): optional buffer to add to the extent of the shapefile\n",
    "        **kwargs: Keyword arguments for shape_utils.Shape class\n",
    "    \n",
    "    Returns:\n",
    "        extent (tuple): Extent float values in format (x1, x2, y1, y2)\n",
    "        \n",
    "    TODO: Split into\n",
    "            - get_shapefile_shapelist(shape_reader)\n",
    "            - get_shapelist_union(shapelist, **kwargs)\n",
    "            - get_shape_extent(shape, buffer=0)\n",
    "    '''\n",
    "    #Get all the records from shapefile_reader\n",
    "    recs = [rec for rec in shape_reader.records()]\n",
    "    \n",
    "    #Cycle through all the records in recs,\n",
    "    #appending Shape object to ShapeList, if shape is valid\n",
    "    shplist = shape.ShapeList([])\n",
    "    for rec in recs:\n",
    "        shp = shape.Shape(rec.geometry, rec.attributes, **kwargs) \n",
    "        if shp.is_valid:\n",
    "            shplist.append(shp)\n",
    "    \n",
    "    #Get extent of union of all geometries\n",
    "    wsen = shplist.unary_union().data.bounds\n",
    "    \n",
    "    #Rearrange extent from (x1, y1, x2, y2) to (x1, x2, y1, y2), adding buffer\n",
    "    extent = (wsen[0]-buffer, wsen[2]+buffer, wsen[1]-buffer, wsen[3]+buffer)\n",
    "    \n",
    "    return extent"
   ]
  },
  {
   "cell_type": "code",
   "execution_count": 85,
   "metadata": {},
   "outputs": [],
   "source": [
    "def plot_extent(extent):\n",
    "    '''\n",
    "    Use Matplotlib to plot the given extent on a map of the world, \n",
    "    in Plate Carree projection, with coastlines and country boundaries.\n",
    "    \n",
    "    Arguments:\n",
    "        extent (tuple): Float values for lat-lon coordinates in (x1, x2, y1, y2) format\n",
    "    \n",
    "    Returns: \n",
    "        Displays plot\n",
    "    '''\n",
    "    ax = plt.axes(projection=ccrs.PlateCarree())\n",
    "    ax.coastlines('50m', color='b')\n",
    "    ax.add_feature(cartopy.feature.BORDERS.with_scale('50m'), linestyle=':')\n",
    "    ax.set_extent(extent)\n",
    "    plt.show()"
   ]
  },
  {
   "cell_type": "code",
   "execution_count": 86,
   "metadata": {},
   "outputs": [
    {
     "name": "stdout",
     "output_type": "stream",
     "text": [
      "CPU times: user 6.44 s, sys: 0 ns, total: 6.44 s\n",
      "Wall time: 6.43 s\n"
     ]
    },
    {
     "data": {
      "text/plain": [
       "(-9.650007246402009, 2.76357118981522, 48.8823405149758, 61.85644221099626)"
      ]
     },
     "execution_count": 86,
     "metadata": {},
     "output_type": "execute_result"
    }
   ],
   "source": [
    "%%time\n",
    "#Get the extent of the shapefile, with a buffer of 1 degree\n",
    "SHAPE_EXTENT = get_shapefile_extent(shape_reader, buffer=1)\n",
    "SHAPE_EXTENT"
   ]
  },
  {
   "cell_type": "code",
   "execution_count": 87,
   "metadata": {},
   "outputs": [
    {
     "data": {
      "image/png": "[encoded data removed]",
      "text/plain": [
       "<Figure size 432x288 with 1 Axes>"
      ]
     },
     "metadata": {
      "needs_background": "light"
     },
     "output_type": "display_data"
    }
   ],
   "source": [
    "#Plot it onto a map of the world to check that it looks how we expect it to\n",
    "plot_extent(SHAPE_EXTENT)"
   ]
  },
  {
   "cell_type": "markdown",
   "metadata": {},
   "source": [
    "## 3. Use lookup table shapefile_attributes.json to determine what shapefile attributes we want to use later."
   ]
  },
  {
   "cell_type": "code",
   "execution_count": 88,
   "metadata": {},
   "outputs": [],
   "source": [
    "#Define json path\n",
    "json_read = './shapefile_attributes.json'"
   ]
  },
  {
   "cell_type": "code",
   "execution_count": 89,
   "metadata": {},
   "outputs": [
    {
     "data": {
      "text/plain": [
       "('code', 'name')"
      ]
     },
     "execution_count": 89,
     "metadata": {},
     "output_type": "execute_result"
    }
   ],
   "source": [
    "#Load SHAPE_ATTRS from json file as a tuple\n",
    "with open(json_read) as file:\n",
    "    SHAPE_ATTRS = tuple(json.load(file)['shapefile_attributes'][SHAPEFILE_NAME])\n",
    "    \n",
    "SHAPE_ATTRS"
   ]
  },
  {
   "cell_type": "code",
   "execution_count": 90,
   "metadata": {},
   "outputs": [
    {
     "data": {
      "text/plain": [
       "('E06000001',\n",
       " 'E06000002',\n",
       " 'E06000003',\n",
       " 'E06000004',\n",
       " 'E06000005',\n",
       " 'E06000006',\n",
       " 'E06000007',\n",
       " 'E06000008',\n",
       " 'E06000009',\n",
       " 'E06000010')"
      ]
     },
     "execution_count": 90,
     "metadata": {},
     "output_type": "execute_result"
    }
   ],
   "source": [
    "#The first attribute in SHAPE_ATTRS will be the shapefile attribute we iterate over in our pipeline\n",
    "SHAPE_IDS = tuple(record.attributes[SHAPE_ATTRS[0]] for record in shape_reader.records())\n",
    "SHAPE_IDS[0:10]"
   ]
  },
  {
   "cell_type": "markdown",
   "metadata": {},
   "source": [
    "## 4. Use daterange to generate filenames of NetCDFs we want to load"
   ]
  },
  {
   "cell_type": "code",
   "execution_count": 15,
   "metadata": {},
   "outputs": [
    {
     "data": {
      "text/plain": [
       "DatetimeIndex(['2020-03-01', '2020-03-02', '2020-03-03', '2020-03-04',\n",
       "               '2020-03-05', '2020-03-06', '2020-03-07', '2020-03-08',\n",
       "               '2020-03-09', '2020-03-10', '2020-03-11'],\n",
       "              dtype='datetime64[ns]', freq='D')"
      ]
     },
     "execution_count": 15,
     "metadata": {},
     "output_type": "execute_result"
    }
   ],
   "source": [
    "#Define date range\n",
    "start = datetime.date(2020, 3, 1)\n",
    "stop = datetime.date(2020, 3, 11)\n",
    "step = datetime.timedelta(days=1)\n",
    "DATERANGE = pd.date_range(start, stop, freq=step)\n",
    "DATERANGE"
   ]
  },
  {
   "cell_type": "code",
   "execution_count": 16,
   "metadata": {},
   "outputs": [
    {
     "name": "stdout",
     "output_type": "stream",
     "text": [
      "*_20200301.nc\n",
      "*_20200311.nc\n"
     ]
    }
   ],
   "source": [
    "filename_fmt = f'*_%Y%m%d.nc'\n",
    "FILENAMES = list(DATERANGE.strftime(filename_fmt))\n",
    "print(FILENAMES[0])\n",
    "print(FILENAMES[-1])"
   ]
  },
  {
   "cell_type": "markdown",
   "metadata": {},
   "source": [
    "## 5. Load gridded data from NetCDF files into memory using Iris (using [lazy loading](https://scitools.org.uk/iris/docs/latest/userguide/real_and_lazy_data.html))."
   ]
  },
  {
   "cell_type": "markdown",
   "metadata": {},
   "source": [
    "The files for each variable are contained in a separate folder."
   ]
  },
  {
   "cell_type": "code",
   "execution_count": 17,
   "metadata": {},
   "outputs": [
    {
     "name": "stdout",
     "output_type": "stream",
     "text": [
      "['precip_mean', 'sh_max', 'precip_max', 'sh_mean', 'sh_min', 'sw_max', 'sw_mean', 't1o5m_max', 't1o5m_mean', 't1o5m_min']\n",
      "Number of files for each variable: 11\n",
      "CPU times: user 43.4 ms, sys: 19.9 ms, total: 63.3 ms\n",
      "Wall time: 6.15 s\n"
     ]
    }
   ],
   "source": [
    "%%time\n",
    "#List all the filepaths and store in a dict with each variable as a key\n",
    "folder = '/data/misc/covid-19/data_nc_daily/'\n",
    "filepaths = {}\n",
    "for path in os.listdir(folder):\n",
    "    filepaths[path] = []\n",
    "    for filename in FILENAMES:\n",
    "        filepaths[path].extend(glob.glob(os.path.join(folder, path, filename)))\n",
    "variables = list(filepaths.keys())\n",
    "\n",
    "print(variables)\n",
    "print(f'Number of files for each variable: {len(filepaths[variables[0]])}')"
   ]
  },
  {
   "cell_type": "code",
   "execution_count": 18,
   "metadata": {},
   "outputs": [
    {
     "name": "stdout",
     "output_type": "stream",
     "text": [
      "0: precipitation_flux / (kg m-2 s-1)   (time: 11; latitude: 1920; longitude: 2560)\n",
      "1: specific_humidity / (1)             (time: 11; latitude: 1920; longitude: 2560)\n",
      "2: precipitation_flux / (kg m-2 s-1)   (time: 11; latitude: 1920; longitude: 2560)\n",
      "3: specific_humidity / (1)             (time: 11; latitude: 1920; longitude: 2560)\n",
      "4: specific_humidity / (1)             (time: 11; latitude: 1920; longitude: 2560)\n",
      "5: m01s01i202 / (1)                    (time: 11; latitude: 1920; longitude: 2560)\n",
      "6: m01s01i202 / (1)                    (time: 11; latitude: 1920; longitude: 2560)\n",
      "7: air_temperature / (K)               (time: 11; latitude: 1920; longitude: 2560)\n",
      "8: air_temperature / (K)               (time: 11; latitude: 1920; longitude: 2560)\n",
      "9: air_temperature / (K)               (time: 11; latitude: 1920; longitude: 2560)\n",
      "CPU times: user 7.61 s, sys: 408 ms, total: 8.02 s\n",
      "Wall time: 35.1 s\n"
     ]
    }
   ],
   "source": [
    "%%time\n",
    "#Run through all the variables and append the loaded cubes to a CubeList\n",
    "cubes = iris.cube.CubeList([])\n",
    "\n",
    "for var in variables:\n",
    "    cubes.extend(iris.load(filepaths[var]))\n",
    "    \n",
    "print(cubes)"
   ]
  },
  {
   "cell_type": "markdown",
   "metadata": {},
   "source": [
    "## 6. Subset global data based on the extent of the shapefile"
   ]
  },
  {
   "cell_type": "code",
   "execution_count": 91,
   "metadata": {},
   "outputs": [],
   "source": [
    "#Define CoordExtent objects for x and y axes using SHAPE_EXTENT\n",
    "x_axis = cubes[0].coord(axis='x')\n",
    "y_axis = cubes[0].coord(axis='y')\n",
    "\n",
    "x_extent = iris.coords.CoordExtent(x_axis, SHAPE_EXTENT[0], SHAPE_EXTENT[1])\n",
    "y_extent = iris.coords.CoordExtent(y_axis, SHAPE_EXTENT[2], SHAPE_EXTENT[3])"
   ]
  },
  {
   "cell_type": "code",
   "execution_count": 92,
   "metadata": {},
   "outputs": [
    {
     "name": "stdout",
     "output_type": "stream",
     "text": [
      "0: precipitation_flux / (kg m-2 s-1)   (time: 11; latitude: 139; longitude: 89)\n",
      "1: specific_humidity / (1)             (time: 11; latitude: 139; longitude: 89)\n",
      "2: precipitation_flux / (kg m-2 s-1)   (time: 11; latitude: 139; longitude: 89)\n",
      "3: specific_humidity / (1)             (time: 11; latitude: 139; longitude: 89)\n",
      "4: specific_humidity / (1)             (time: 11; latitude: 139; longitude: 89)\n",
      "5: m01s01i202 / (1)                    (time: 11; latitude: 139; longitude: 89)\n",
      "6: m01s01i202 / (1)                    (time: 11; latitude: 139; longitude: 89)\n",
      "7: air_temperature / (K)               (time: 11; latitude: 139; longitude: 89)\n",
      "8: air_temperature / (K)               (time: 11; latitude: 139; longitude: 89)\n",
      "9: air_temperature / (K)               (time: 11; latitude: 139; longitude: 89)\n"
     ]
    }
   ],
   "source": [
    "#Subset cubes\n",
    "shape_cubes = iris.cube.CubeList([cube.intersection(x_extent, y_extent) for cube in cubes])\n",
    "print(shape_cubes)"
   ]
  },
  {
   "cell_type": "code",
   "execution_count": 93,
   "metadata": {},
   "outputs": [
    {
     "data": {
      "text/plain": [
       "<cartopy.mpl.feature_artist.FeatureArtist at 0x7fea09c1b048>"
      ]
     },
     "execution_count": 93,
     "metadata": {},
     "output_type": "execute_result"
    },
    {
     "data": {
      "image/png": "[encoded data removed]",
      "text/plain": [
       "<Figure size 432x288 with 2 Axes>"
      ]
     },
     "metadata": {
      "needs_background": "light"
     },
     "output_type": "display_data"
    }
   ],
   "source": [
    "#Plot the first time step of the first cube in cubes\n",
    "#To check that we've subsetted correctly\n",
    "qplt.contourf(shape_cubes[0][0], cmap='Purples')\n",
    "plt.gca().coastlines('50m', color='blue')\n",
    "plt.gca().add_feature(cartopy.feature.BORDERS.with_scale('50m'), linestyle=':')"
   ]
  },
  {
   "cell_type": "code",
   "execution_count": 94,
   "metadata": {},
   "outputs": [
    {
     "data": {
      "text/plain": [
       "GeogCS(6371229.0)"
      ]
     },
     "execution_count": 94,
     "metadata": {},
     "output_type": "execute_result"
    }
   ],
   "source": [
    "#Extract the coordinate reference system from one of the cubes. We will use this later.\n",
    "CRS = shape_cubes[0].coord_system()\n",
    "CRS"
   ]
  },
  {
   "cell_type": "markdown",
   "metadata": {},
   "source": [
    "## 7. Define the functions to be used in the pipeline."
   ]
  },
  {
   "cell_type": "markdown",
   "metadata": {},
   "source": [
    "### Shapefile functions"
   ]
  },
  {
   "cell_type": "code",
   "execution_count": 95,
   "metadata": {},
   "outputs": [],
   "source": [
    "def get_shape_record(target, shape_reader=shape_reader, attribute=SHAPE_ATTRS[0]):\n",
    "    '''\n",
    "    Get a record from the shape_reader with a target attribute.\n",
    "    \n",
    "    '''\n",
    "    result = None\n",
    "    for record in shape_reader.records():\n",
    "        shape_id = record.attributes[attribute]\n",
    "        if shape_id == target:\n",
    "            result = record\n",
    "            break\n",
    "    if result is None:\n",
    "        emsg = f'Could not find record with {attribute} = \"{target}\".'\n",
    "        raise ValueError(emsg)\n",
    "    return result"
   ]
  },
  {
   "cell_type": "code",
   "execution_count": 96,
   "metadata": {},
   "outputs": [],
   "source": [
    "#Create a random ID generator\n",
    "from random import randint\n",
    "def rand_id(ids=SHAPE_IDS):\n",
    "    '''\n",
    "    Return a random id\n",
    "    Useful for testing\n",
    "    '''\n",
    "    rand_i = randint(0, len(ids)-1)\n",
    "    return ids[rand_i]"
   ]
  },
  {
   "cell_type": "code",
   "execution_count": 97,
   "metadata": {},
   "outputs": [
    {
     "name": "stdout",
     "output_type": "stream",
     "text": [
      "E10000014\n"
     ]
    },
    {
     "data": {
      "image/svg+xml": [
       "<svg xmlns=\"http://www.w3.org/2000/svg\" xmlns:xlink=\"http://www.w3.org/1999/xlink\" width=\"100.0\" height=\"100.0\" viewBox=\"-2.0059207029983392 50.65796289902588 1.3256948164703175 0.7750524869544364\" preserveAspectRatio=\"xMinYMin meet\"><g transform=\"matrix(1,0,0,-1,0,102.0909782850062)\"><g><path fill-rule=\"evenodd\" fill=\"#66cc99\" stroke=\"#555555\" stroke-width=\"0.02651389632940635\" opacity=\"0.6\" d=\"M -0.7593342239078661,51.10325826023434 L -0.753480635682262,51.0864557098491 L -0.780786881640498,51.0793751235126 L -0.797762679451335,51.0635558616832 L -0.842847950683526,51.0668868080859 L -0.852810677861577,51.0448433200739 L -0.896993034200906,51.0220101182791 L -0.893346615712615,51.0027429856163 L -0.907864084059223,50.9942411144512 L -0.931847105710517,50.9455804293165 L -0.942110087824929,50.9428940861142 L -0.924013258512923,50.9241990391588 L -0.940245276386779,50.91805411295 L -0.957581427612506,50.8906296881445 L -0.926450186989275,50.8640917207277 L -0.932477907919786,50.8460494381527 L -0.974458244173659,50.8423034851977 L -0.981420804407408,50.8349280858458 L -1.0011889802698,50.8436684848576 L -1.0199094981415,50.8431968515408 L -1.02412894297283,50.8263225714434 L -1.02263572563164,50.8521011731598 L -1.05401492129355,50.8565508021926 L -1.11584760238594,50.8582717235923 L -1.11411541766947,50.8449274031477 L -1.11770596867816,50.8444391207899 L -1.11306832298729,50.8360908877049 L -1.12747328271756,50.8371051215148 L -1.15448392644207,50.8450705918685 L -1.17489760649934,50.839947180756 L -1.15239484064898,50.8357378692978 L -1.1498834051143,50.8271810963121 L -1.1238152813139,50.8061718824557 L -1.136834371007,50.8019865779332 L -1.12373864023064,50.8041263743816 L -1.11751506405252,50.7930404743905 L -1.13442772062092,50.7858864347422 L -1.11224658898788,50.7892705024871 L -1.14186217123,50.7734777763758 L -1.18971361318266,50.7897184362973 L -1.21414762202561,50.8092966368528 L -1.30811657696464,50.8427329315362 L -1.30274919255879,50.8788774711933 L -1.31661366153335,50.8756725972675 L -1.31046980782541,50.8490156325405 L -1.36511119785051,50.8800387520251 L -1.32197756217243,50.9009534990777 L -1.33335691001506,50.9198827716172 L -1.35793338490146,50.9307313459938 L -1.35468995194608,50.9410218344503 L -1.40613979538219,50.9561274536544 L -1.42366272212772,50.9472334974688 L -1.44954581112644,50.9499113532644 L -1.47732818256817,50.9284620320515 L -1.46531200620396,50.9106244832959 L -1.47872452524169,50.9252336567515 L -1.4734643669987,50.9148017767014 L -1.47631700883239,50.910694885203 L -1.45113752863935,50.9013469687107 L -1.42184978337485,50.8950260979151 L -1.37685273756036,50.8539368984583 L -1.35270689897512,50.8481432511722 L -1.36051272275992,50.8429123528413 L -1.34948156737171,50.8464813752999 L -1.33456761751743,50.8374574906828 L -1.33652503728085,50.8272787200648 L -1.31930289699727,50.8244504584703 L -1.32597501270791,50.8165066290956 L -1.3232322321157,50.8181573967541 L -1.31456756067171,50.8153671825348 L -1.31551898729036,50.8211667576765 L -1.31173738535365,50.8206477505735 L -1.30787309528877,50.8176730082689 L -1.30954712901757,50.8136312879595 L -1.35259306282288,50.7839911245688 L -1.39961043157546,50.7822932894357 L -1.41297158725193,50.7839505205592 L -1.39267350158177,50.777403903402 L -1.39970889980869,50.7742382882942 L -1.50270882990682,50.7539382807671 L -1.53527968865641,50.7638422158127 L -1.52592502725889,50.7445214998125 L -1.54185687058124,50.7397651094084 L -1.53107393692561,50.7370180962378 L -1.57954323159501,50.7177228809675 L -1.55104432148253,50.7070627070433 L -1.64105250045426,50.7322365748967 L -1.692547967083,50.7373528300586 L -1.68181880176013,50.751850045709 L -1.74416871755885,50.7474553887605 L -1.73895962345847,50.7632705334556 L -1.74884631724303,50.7794943875112 L -1.78549590627468,50.7647520319108 L -1.81189346961485,50.8086420525353 L -1.80340083464914,50.8303392083796 L -1.79061492044422,50.8363141194303 L -1.80247295729644,50.8429625299587 L -1.80711024689597,50.8633153672182 L -1.83000872917239,50.8552737977567 L -1.85353883472863,50.8634601106412 L -1.84855553218411,50.8898873570296 L -1.8165419268142,50.9039481458121 L -1.8106580896691,50.9272033833848 L -1.84184002606343,50.931680374307 L -1.87364432144964,50.9172258897865 L -1.92084101012651,50.9614073112474 L -1.95546558071481,50.9782663327052 L -1.95682089498092,50.9898299333136 L -1.94993597428249,50.982310587126 L -1.92787590068259,50.9976972353567 L -1.88674132171074,50.9995277362902 L -1.87448162937032,51.0063305730385 L -1.87398355229609,50.9844410369727 L -1.85338113087344,51.0046795408065 L -1.83581261899271,51.009422262898 L -1.81542176154033,50.9859226506618 L -1.80031396441254,50.9913948004776 L -1.75440191299908,50.9778920957637 L -1.71961730875128,50.9767804602939 L -1.66165999760679,50.9452778925552 L -1.63496498191182,50.959242203305 L -1.61975086537986,50.958566922566 L -1.60292295662954,50.9785219275279 L -1.61964214748169,50.982996428717 L -1.62888498210167,50.9990317656901 L -1.59733922744914,51.0097526004452 L -1.59939671455144,51.0237293759632 L -1.63237574994688,51.0327797089411 L -1.63494006258514,51.0405607803365 L -1.6277285317731,51.0780113479755 L -1.63731080993168,51.092165472254 L -1.62624982084857,51.11733837822 L -1.66297542061049,51.1271919942692 L -1.65404416770563,51.1562825595718 L -1.67236777184947,51.178543907232 L -1.66883538878813,51.1907722671746 L -1.69409695143106,51.204043239813 L -1.68969464697899,51.2148276707553 L -1.63354082449386,51.2175159574141 L -1.6074261068072,51.2527700646067 L -1.57763603597239,51.255631065046 L -1.54515980286727,51.2450984925635 L -1.53603492234381,51.2485300396199 L -1.52982022728447,51.2605141199772 L -1.54051263214595,51.2608334795592 L -1.54258390871829,51.2812507359817 L -1.52280740170925,51.2870580082431 L -1.51951108457163,51.2959385817098 L -1.53356185391502,51.3162235803486 L -1.52750728243899,51.3384659578415 L -1.498298923396,51.3293760932154 L -1.42969282350092,51.3365302852492 L -1.44410966916138,51.3549284015044 L -1.42843862520728,51.3566900764731 L -1.41106775678437,51.3728524330013 L -1.34953197885892,51.3671056168504 L -1.25113955136333,51.3720405294303 L -1.17689427560879,51.3573240538202 L -1.13858996979348,51.3571910724835 L -1.11579091152374,51.3604661648818 L -1.1154571911925,51.374214909415 L -1.08661908661563,51.3839155779629 L -1.05001598396462,51.3581479361663 L -0.986123750530059,51.3628482885656 L -0.986740059567131,51.3598556248242 L -0.92369481434098,51.3660104953328 L -0.877856218050537,51.3525912694796 L -0.837349302933734,51.3528712213498 L -0.775466206963732,51.3319589032434 L -0.76290312001552,51.3187305296545 L -0.744167106040696,51.3092949290082 L -0.731093833410657,51.2803620913767 L -0.729325694545441,51.2561119199111 L -0.745540379663864,51.2304563901334 L -0.776089010502037,51.2419556695792 L -0.801740042684925,51.2390387633544 L -0.804749572959298,51.2450647475977 L -0.848912169248545,51.2107157287771 L -0.825443293261202,51.1813565059788 L -0.834203925546664,51.1475816697554 L -0.798395605296421,51.1525274777685 L -0.769280592586641,51.1171423778692 L -0.745525568291982,51.1121884663796 L -0.749272690128818,51.1032459066375 L -0.7593342239078661,51.10325826023434 z\" /><path fill-rule=\"evenodd\" fill=\"#66cc99\" stroke=\"#555555\" stroke-width=\"0.02651389632940635\" opacity=\"0.6\" d=\"M -0.994896275669133,50.7981358981835 L -0.986768415322087,50.8269492869075 L -0.969104657757568,50.8345330285317 L -0.951007030254991,50.8237565903868 L -0.957057022449932,50.807342934349 L -0.960861204194009,50.8115945746117 L -0.970203755184707,50.8103157146969 L -0.961788987659883,50.8078552979293 L -0.973369385839973,50.8090629970639 L -0.968970769304287,50.8027408972773 L -0.952726202143068,50.8010145235953 L -0.966806227057264,50.787618142444 L -0.95130748967383,50.7869062514998 L -0.958887117716115,50.7811664453503 L -0.936761630066577,50.7867972054007 L -0.937418297003028,50.7775856368772 L -1.02156303335334,50.7862615409991 L -1.02495287033646,50.7959051217276 L -0.994896275669133,50.7981358981835 z\" /></g></g></svg>"
      ],
      "text/plain": [
       "<shapely.geometry.multipolygon.MultiPolygon at 0x7fea0883f160>"
      ]
     },
     "execution_count": 97,
     "metadata": {},
     "output_type": "execute_result"
    }
   ],
   "source": [
    "#Get a random geometry to check it's all working as expected\n",
    "i = rand_id()\n",
    "print(i)\n",
    "get_shape_record(i).geometry"
   ]
  },
  {
   "cell_type": "markdown",
   "metadata": {},
   "source": [
    "### Gridded data functions"
   ]
  },
  {
   "cell_type": "code",
   "execution_count": 98,
   "metadata": {},
   "outputs": [],
   "source": [
    "def get_cell_method(cube, coord='time'):\n",
    "    '''\n",
    "    Get the cell method with coord in coord_names\n",
    "    '''\n",
    "    result = None\n",
    "    for method in cube.cell_methods:\n",
    "        if coord in method.coord_names:\n",
    "            result = method.method\n",
    "            break\n",
    "    \n",
    "    return result"
   ]
  },
  {
   "cell_type": "code",
   "execution_count": 99,
   "metadata": {},
   "outputs": [],
   "source": [
    "def parse_data_name(cube):\n",
    "    '''\n",
    "    Parse the name, cell methods and units in a cube to return a column name\n",
    "    To be used in a Pandas DataFrame\n",
    "    '''\n",
    "    name = cube.name()\n",
    "    time_method = get_cell_method(cube, 'time').replace('imum', '')\n",
    "    space_method = get_cell_method(cube, 'longitude')\n",
    "    units = cube.units\n",
    "    \n",
    "    if name == 'm01s01i202':\n",
    "        name = 'short_wave_radiation'\n",
    "        if space_method.startswith('var'):\n",
    "            units = 'W2 m-4'\n",
    "        else:\n",
    "            units = 'W m-2'\n",
    "    \n",
    "    if space_method:\n",
    "        result = f'{name}_{time_method}_{space_method.replace(\"imum\", \"\")} ({units})'\n",
    "    else:\n",
    "        result = f'{name}_{time_method} ({units})'\n",
    "    \n",
    "    return result"
   ]
  },
  {
   "cell_type": "code",
   "execution_count": 100,
   "metadata": {},
   "outputs": [],
   "source": [
    "def get_date(dt):\n",
    "    '''\n",
    "    Return date from datetime-like object dt\n",
    "    '''\n",
    "    return datetime.date(dt.year, dt.month, dt.day)"
   ]
  },
  {
   "cell_type": "code",
   "execution_count": 101,
   "metadata": {},
   "outputs": [],
   "source": [
    "def get_column_order(start, end):\n",
    "    '''\n",
    "    \n",
    "    '''\n",
    "    starts = tuple(start)\n",
    "    \n",
    "    ends = tuple(sorted([c for c in end if c not in starts]))\n",
    "    \n",
    "    return starts+ends"
   ]
  },
  {
   "cell_type": "code",
   "execution_count": 102,
   "metadata": {},
   "outputs": [],
   "source": [
    "def extract_collapse_df(shape_id, cubes=shape_cubes, **kwargs):\n",
    "    '''\n",
    "    Extract subcubes from cubes using geometry of shape_id\n",
    "    Collapse the cube acros x and y coords to get the MEAN and VARIANCE\n",
    "    Collect data in a dataframe for this shape_id\n",
    "    \n",
    "    Extract method:\n",
    "        Extracts XY bounding box around geometry\n",
    "        Refer to [Method](#Method) at top of this notebook for detailed description\n",
    "        \n",
    "    Arguments:\n",
    "        shape_id (str): ID of geometry used for subsetting\n",
    "        cubes (iris.CubeList): List of Iris cubes to be subsetted\n",
    "        \n",
    "    Returns: \n",
    "        df (pandas.DataFrame): DataFrame containing shape_id attributes \n",
    "                               and MEAN+VARIANCE of data in cubes for shape_id geometry\n",
    "    '''\n",
    "    #Create a Shape object from the record for shape_id\n",
    "    region = get_shape_record(shape_id, **kwargs)\n",
    "    shp = shape.Shape(region.geometry, region.attributes, coord_system=CRS)\n",
    "    \n",
    "    #Extract sub_cubes from cubes using shp\n",
    "    sub_cubes = shp.extract_subcubes(cubes)\n",
    "    \n",
    "    #Collapse cubes across x and y coords with to get mean and variance\n",
    "    mean_cubes = [cube.collapsed([cube.coord(axis='x'),cube.coord(axis='y')], iris.analysis.MEAN) for cube in sub_cubes]\n",
    "    var_cubes = [cube.collapsed([cube.coord(axis='x'),cube.coord(axis='y')], iris.analysis.VARIANCE) for cube in sub_cubes]\n",
    "    \n",
    "    #Line up data and column names for Pandas DataFrame\n",
    "    time = mean_cubes[0].coord('time')\n",
    "    length = len(time.points)\n",
    "    data = {'shapefile': [SHAPEFILE_NAME]*length}\n",
    "    data.update({name: [region.attributes[name]]*length for name in SHAPE_ATTRS})\n",
    "    data.update({'date': [get_date(cell.point) for cell in time.cells()]})\n",
    "    data.update({parse_data_name(cube): cube.data for cube in mean_cubes})\n",
    "    data.update({parse_data_name(cube): cube.data for cube in var_cubes})\n",
    "    \n",
    "    #Get a column order so that all dataframes have the same column order\n",
    "    column_order = get_column_order(['shapefile']+list(SHAPE_ATTRS)+['date'], end=data.keys())\n",
    "    \n",
    "    #Create DataFrame\n",
    "    df = pd.DataFrame(data, columns=column_order)\n",
    "\n",
    "    return df"
   ]
  },
  {
   "cell_type": "code",
   "execution_count": 103,
   "metadata": {},
   "outputs": [
    {
     "name": "stdout",
     "output_type": "stream",
     "text": [
      "CPU times: user 3.66 s, sys: 3.34 s, total: 7 s\n",
      "Wall time: 4.09 s\n"
     ]
    },
    {
     "data": {
      "text/html": [
       "<div>\n",
       "<style scoped>\n",
       "    .dataframe tbody tr th:only-of-type {\n",
       "        vertical-align: middle;\n",
       "    }\n",
       "\n",
       "    .dataframe tbody tr th {\n",
       "        vertical-align: top;\n",
       "    }\n",
       "\n",
       "    .dataframe thead th {\n",
       "        text-align: right;\n",
       "    }\n",
       "</style>\n",
       "<table border=\"1\" class=\"dataframe\">\n",
       "  <thead>\n",
       "    <tr style=\"text-align: right;\">\n",
       "      <th></th>\n",
       "      <th>shapefile</th>\n",
       "      <th>code</th>\n",
       "      <th>name</th>\n",
       "      <th>date</th>\n",
       "      <th>air_temperature_max_mean (K)</th>\n",
       "      <th>air_temperature_max_variance (K2)</th>\n",
       "      <th>air_temperature_mean_mean (K)</th>\n",
       "      <th>air_temperature_mean_variance (K2)</th>\n",
       "      <th>air_temperature_min_mean (K)</th>\n",
       "      <th>air_temperature_min_variance (K2)</th>\n",
       "      <th>...</th>\n",
       "      <th>short_wave_radiation_max_mean (W m-2)</th>\n",
       "      <th>short_wave_radiation_max_variance (W2 m-4)</th>\n",
       "      <th>short_wave_radiation_mean_mean (W m-2)</th>\n",
       "      <th>short_wave_radiation_mean_variance (W2 m-4)</th>\n",
       "      <th>specific_humidity_max_mean (1)</th>\n",
       "      <th>specific_humidity_max_variance (1)</th>\n",
       "      <th>specific_humidity_mean_mean (1)</th>\n",
       "      <th>specific_humidity_mean_variance (1)</th>\n",
       "      <th>specific_humidity_min_mean (1)</th>\n",
       "      <th>specific_humidity_min_variance (1)</th>\n",
       "    </tr>\n",
       "  </thead>\n",
       "  <tbody>\n",
       "    <tr>\n",
       "      <th>0</th>\n",
       "      <td>UK_covid_reporting_regions</td>\n",
       "      <td>E10000015</td>\n",
       "      <td>Hertfordshire</td>\n",
       "      <td>2020-03-01</td>\n",
       "      <td>281.100922</td>\n",
       "      <td>0.449168</td>\n",
       "      <td>278.818024</td>\n",
       "      <td>0.163206</td>\n",
       "      <td>277.156250</td>\n",
       "      <td>0.180391</td>\n",
       "      <td>...</td>\n",
       "      <td>395.148773</td>\n",
       "      <td>751.197449</td>\n",
       "      <td>86.215088</td>\n",
       "      <td>40.066002</td>\n",
       "      <td>0.004761</td>\n",
       "      <td>1.521821e-08</td>\n",
       "      <td>0.004162</td>\n",
       "      <td>6.781222e-09</td>\n",
       "      <td>0.003677</td>\n",
       "      <td>1.624861e-08</td>\n",
       "    </tr>\n",
       "    <tr>\n",
       "      <th>1</th>\n",
       "      <td>UK_covid_reporting_regions</td>\n",
       "      <td>E10000015</td>\n",
       "      <td>Hertfordshire</td>\n",
       "      <td>2020-03-02</td>\n",
       "      <td>281.080719</td>\n",
       "      <td>0.095530</td>\n",
       "      <td>277.922455</td>\n",
       "      <td>0.115847</td>\n",
       "      <td>276.201172</td>\n",
       "      <td>0.142751</td>\n",
       "      <td>...</td>\n",
       "      <td>386.420898</td>\n",
       "      <td>1689.219360</td>\n",
       "      <td>75.618935</td>\n",
       "      <td>78.520470</td>\n",
       "      <td>0.005040</td>\n",
       "      <td>3.167820e-08</td>\n",
       "      <td>0.004350</td>\n",
       "      <td>3.656997e-09</td>\n",
       "      <td>0.003306</td>\n",
       "      <td>3.033073e-08</td>\n",
       "    </tr>\n",
       "    <tr>\n",
       "      <th>2</th>\n",
       "      <td>UK_covid_reporting_regions</td>\n",
       "      <td>E10000015</td>\n",
       "      <td>Hertfordshire</td>\n",
       "      <td>2020-03-03</td>\n",
       "      <td>281.099609</td>\n",
       "      <td>0.154367</td>\n",
       "      <td>277.383148</td>\n",
       "      <td>0.100729</td>\n",
       "      <td>274.268219</td>\n",
       "      <td>0.103716</td>\n",
       "      <td>...</td>\n",
       "      <td>344.813812</td>\n",
       "      <td>2297.450684</td>\n",
       "      <td>75.963806</td>\n",
       "      <td>86.870827</td>\n",
       "      <td>0.004974</td>\n",
       "      <td>3.202167e-08</td>\n",
       "      <td>0.004293</td>\n",
       "      <td>4.498034e-09</td>\n",
       "      <td>0.003840</td>\n",
       "      <td>1.202132e-08</td>\n",
       "    </tr>\n",
       "    <tr>\n",
       "      <th>3</th>\n",
       "      <td>UK_covid_reporting_regions</td>\n",
       "      <td>E10000015</td>\n",
       "      <td>Hertfordshire</td>\n",
       "      <td>2020-03-04</td>\n",
       "      <td>280.234039</td>\n",
       "      <td>0.274045</td>\n",
       "      <td>276.834778</td>\n",
       "      <td>0.060764</td>\n",
       "      <td>273.549805</td>\n",
       "      <td>0.113121</td>\n",
       "      <td>...</td>\n",
       "      <td>364.302399</td>\n",
       "      <td>2234.769531</td>\n",
       "      <td>64.544533</td>\n",
       "      <td>41.271877</td>\n",
       "      <td>0.005351</td>\n",
       "      <td>9.722735e-09</td>\n",
       "      <td>0.004480</td>\n",
       "      <td>4.101738e-09</td>\n",
       "      <td>0.003662</td>\n",
       "      <td>0.000000e+00</td>\n",
       "    </tr>\n",
       "    <tr>\n",
       "      <th>4</th>\n",
       "      <td>UK_covid_reporting_regions</td>\n",
       "      <td>E10000015</td>\n",
       "      <td>Hertfordshire</td>\n",
       "      <td>2020-03-05</td>\n",
       "      <td>278.635101</td>\n",
       "      <td>0.128838</td>\n",
       "      <td>277.818512</td>\n",
       "      <td>0.142064</td>\n",
       "      <td>277.004547</td>\n",
       "      <td>0.158504</td>\n",
       "      <td>...</td>\n",
       "      <td>72.731445</td>\n",
       "      <td>708.192139</td>\n",
       "      <td>14.685859</td>\n",
       "      <td>11.685055</td>\n",
       "      <td>0.005442</td>\n",
       "      <td>1.764887e-08</td>\n",
       "      <td>0.005178</td>\n",
       "      <td>8.557985e-09</td>\n",
       "      <td>0.004862</td>\n",
       "      <td>4.650007e-09</td>\n",
       "    </tr>\n",
       "    <tr>\n",
       "      <th>5</th>\n",
       "      <td>UK_covid_reporting_regions</td>\n",
       "      <td>E10000015</td>\n",
       "      <td>Hertfordshire</td>\n",
       "      <td>2020-03-06</td>\n",
       "      <td>281.107086</td>\n",
       "      <td>0.167657</td>\n",
       "      <td>277.552673</td>\n",
       "      <td>0.211929</td>\n",
       "      <td>274.768219</td>\n",
       "      <td>0.236438</td>\n",
       "      <td>...</td>\n",
       "      <td>441.010406</td>\n",
       "      <td>858.734070</td>\n",
       "      <td>104.751915</td>\n",
       "      <td>80.441071</td>\n",
       "      <td>0.004791</td>\n",
       "      <td>1.680344e-08</td>\n",
       "      <td>0.004077</td>\n",
       "      <td>5.714118e-09</td>\n",
       "      <td>0.003408</td>\n",
       "      <td>2.779437e-08</td>\n",
       "    </tr>\n",
       "    <tr>\n",
       "      <th>6</th>\n",
       "      <td>UK_covid_reporting_regions</td>\n",
       "      <td>E10000015</td>\n",
       "      <td>Hertfordshire</td>\n",
       "      <td>2020-03-07</td>\n",
       "      <td>284.892914</td>\n",
       "      <td>0.068161</td>\n",
       "      <td>279.871918</td>\n",
       "      <td>0.067995</td>\n",
       "      <td>274.432617</td>\n",
       "      <td>0.285233</td>\n",
       "      <td>...</td>\n",
       "      <td>351.960938</td>\n",
       "      <td>1323.265259</td>\n",
       "      <td>78.953819</td>\n",
       "      <td>54.291588</td>\n",
       "      <td>0.006556</td>\n",
       "      <td>7.582684e-09</td>\n",
       "      <td>0.005288</td>\n",
       "      <td>1.072817e-08</td>\n",
       "      <td>0.003647</td>\n",
       "      <td>5.429411e-08</td>\n",
       "    </tr>\n",
       "    <tr>\n",
       "      <th>7</th>\n",
       "      <td>UK_covid_reporting_regions</td>\n",
       "      <td>E10000015</td>\n",
       "      <td>Hertfordshire</td>\n",
       "      <td>2020-03-08</td>\n",
       "      <td>283.696930</td>\n",
       "      <td>0.224306</td>\n",
       "      <td>281.671967</td>\n",
       "      <td>0.117024</td>\n",
       "      <td>279.449554</td>\n",
       "      <td>0.126842</td>\n",
       "      <td>...</td>\n",
       "      <td>417.775391</td>\n",
       "      <td>1111.410522</td>\n",
       "      <td>83.621933</td>\n",
       "      <td>59.745934</td>\n",
       "      <td>0.006632</td>\n",
       "      <td>8.454555e-09</td>\n",
       "      <td>0.005830</td>\n",
       "      <td>2.967850e-09</td>\n",
       "      <td>0.005132</td>\n",
       "      <td>3.778132e-09</td>\n",
       "    </tr>\n",
       "    <tr>\n",
       "      <th>8</th>\n",
       "      <td>UK_covid_reporting_regions</td>\n",
       "      <td>E10000015</td>\n",
       "      <td>Hertfordshire</td>\n",
       "      <td>2020-03-09</td>\n",
       "      <td>283.002930</td>\n",
       "      <td>0.137556</td>\n",
       "      <td>280.010345</td>\n",
       "      <td>0.082463</td>\n",
       "      <td>278.055328</td>\n",
       "      <td>0.095681</td>\n",
       "      <td>...</td>\n",
       "      <td>374.867188</td>\n",
       "      <td>3320.751221</td>\n",
       "      <td>72.305252</td>\n",
       "      <td>53.522034</td>\n",
       "      <td>0.006912</td>\n",
       "      <td>2.068725e-08</td>\n",
       "      <td>0.005060</td>\n",
       "      <td>3.117218e-09</td>\n",
       "      <td>0.004333</td>\n",
       "      <td>2.663186e-08</td>\n",
       "    </tr>\n",
       "    <tr>\n",
       "      <th>9</th>\n",
       "      <td>UK_covid_reporting_regions</td>\n",
       "      <td>E10000015</td>\n",
       "      <td>Hertfordshire</td>\n",
       "      <td>2020-03-10</td>\n",
       "      <td>287.091156</td>\n",
       "      <td>0.175109</td>\n",
       "      <td>284.794189</td>\n",
       "      <td>0.168359</td>\n",
       "      <td>282.473969</td>\n",
       "      <td>0.186590</td>\n",
       "      <td>...</td>\n",
       "      <td>281.319977</td>\n",
       "      <td>2373.833984</td>\n",
       "      <td>57.208496</td>\n",
       "      <td>56.402832</td>\n",
       "      <td>0.008377</td>\n",
       "      <td>4.858727e-08</td>\n",
       "      <td>0.007536</td>\n",
       "      <td>6.490473e-09</td>\n",
       "      <td>0.006332</td>\n",
       "      <td>3.566768e-09</td>\n",
       "    </tr>\n",
       "    <tr>\n",
       "      <th>10</th>\n",
       "      <td>UK_covid_reporting_regions</td>\n",
       "      <td>E10000015</td>\n",
       "      <td>Hertfordshire</td>\n",
       "      <td>2020-03-11</td>\n",
       "      <td>286.001953</td>\n",
       "      <td>0.386315</td>\n",
       "      <td>282.921112</td>\n",
       "      <td>0.233629</td>\n",
       "      <td>280.362640</td>\n",
       "      <td>0.585210</td>\n",
       "      <td>...</td>\n",
       "      <td>433.245758</td>\n",
       "      <td>1751.644653</td>\n",
       "      <td>100.138672</td>\n",
       "      <td>54.401615</td>\n",
       "      <td>0.006363</td>\n",
       "      <td>3.566768e-09</td>\n",
       "      <td>0.006040</td>\n",
       "      <td>2.024424e-09</td>\n",
       "      <td>0.005519</td>\n",
       "      <td>1.455769e-08</td>\n",
       "    </tr>\n",
       "  </tbody>\n",
       "</table>\n",
       "<p>11 rows × 22 columns</p>\n",
       "</div>"
      ],
      "text/plain": [
       "                     shapefile       code           name        date  \\\n",
       "0   UK_covid_reporting_regions  E10000015  Hertfordshire  2020-03-01   \n",
       "1   UK_covid_reporting_regions  E10000015  Hertfordshire  2020-03-02   \n",
       "2   UK_covid_reporting_regions  E10000015  Hertfordshire  2020-03-03   \n",
       "3   UK_covid_reporting_regions  E10000015  Hertfordshire  2020-03-04   \n",
       "4   UK_covid_reporting_regions  E10000015  Hertfordshire  2020-03-05   \n",
       "5   UK_covid_reporting_regions  E10000015  Hertfordshire  2020-03-06   \n",
       "6   UK_covid_reporting_regions  E10000015  Hertfordshire  2020-03-07   \n",
       "7   UK_covid_reporting_regions  E10000015  Hertfordshire  2020-03-08   \n",
       "8   UK_covid_reporting_regions  E10000015  Hertfordshire  2020-03-09   \n",
       "9   UK_covid_reporting_regions  E10000015  Hertfordshire  2020-03-10   \n",
       "10  UK_covid_reporting_regions  E10000015  Hertfordshire  2020-03-11   \n",
       "\n",
       "    air_temperature_max_mean (K)  air_temperature_max_variance (K2)  \\\n",
       "0                     281.100922                           0.449168   \n",
       "1                     281.080719                           0.095530   \n",
       "2                     281.099609                           0.154367   \n",
       "3                     280.234039                           0.274045   \n",
       "4                     278.635101                           0.128838   \n",
       "5                     281.107086                           0.167657   \n",
       "6                     284.892914                           0.068161   \n",
       "7                     283.696930                           0.224306   \n",
       "8                     283.002930                           0.137556   \n",
       "9                     287.091156                           0.175109   \n",
       "10                    286.001953                           0.386315   \n",
       "\n",
       "    air_temperature_mean_mean (K)  air_temperature_mean_variance (K2)  \\\n",
       "0                      278.818024                            0.163206   \n",
       "1                      277.922455                            0.115847   \n",
       "2                      277.383148                            0.100729   \n",
       "3                      276.834778                            0.060764   \n",
       "4                      277.818512                            0.142064   \n",
       "5                      277.552673                            0.211929   \n",
       "6                      279.871918                            0.067995   \n",
       "7                      281.671967                            0.117024   \n",
       "8                      280.010345                            0.082463   \n",
       "9                      284.794189                            0.168359   \n",
       "10                     282.921112                            0.233629   \n",
       "\n",
       "    air_temperature_min_mean (K)  air_temperature_min_variance (K2)  ...  \\\n",
       "0                     277.156250                           0.180391  ...   \n",
       "1                     276.201172                           0.142751  ...   \n",
       "2                     274.268219                           0.103716  ...   \n",
       "3                     273.549805                           0.113121  ...   \n",
       "4                     277.004547                           0.158504  ...   \n",
       "5                     274.768219                           0.236438  ...   \n",
       "6                     274.432617                           0.285233  ...   \n",
       "7                     279.449554                           0.126842  ...   \n",
       "8                     278.055328                           0.095681  ...   \n",
       "9                     282.473969                           0.186590  ...   \n",
       "10                    280.362640                           0.585210  ...   \n",
       "\n",
       "    short_wave_radiation_max_mean (W m-2)  \\\n",
       "0                              395.148773   \n",
       "1                              386.420898   \n",
       "2                              344.813812   \n",
       "3                              364.302399   \n",
       "4                               72.731445   \n",
       "5                              441.010406   \n",
       "6                              351.960938   \n",
       "7                              417.775391   \n",
       "8                              374.867188   \n",
       "9                              281.319977   \n",
       "10                             433.245758   \n",
       "\n",
       "    short_wave_radiation_max_variance (W2 m-4)  \\\n",
       "0                                   751.197449   \n",
       "1                                  1689.219360   \n",
       "2                                  2297.450684   \n",
       "3                                  2234.769531   \n",
       "4                                   708.192139   \n",
       "5                                   858.734070   \n",
       "6                                  1323.265259   \n",
       "7                                  1111.410522   \n",
       "8                                  3320.751221   \n",
       "9                                  2373.833984   \n",
       "10                                 1751.644653   \n",
       "\n",
       "    short_wave_radiation_mean_mean (W m-2)  \\\n",
       "0                                86.215088   \n",
       "1                                75.618935   \n",
       "2                                75.963806   \n",
       "3                                64.544533   \n",
       "4                                14.685859   \n",
       "5                               104.751915   \n",
       "6                                78.953819   \n",
       "7                                83.621933   \n",
       "8                                72.305252   \n",
       "9                                57.208496   \n",
       "10                              100.138672   \n",
       "\n",
       "    short_wave_radiation_mean_variance (W2 m-4)  \\\n",
       "0                                     40.066002   \n",
       "1                                     78.520470   \n",
       "2                                     86.870827   \n",
       "3                                     41.271877   \n",
       "4                                     11.685055   \n",
       "5                                     80.441071   \n",
       "6                                     54.291588   \n",
       "7                                     59.745934   \n",
       "8                                     53.522034   \n",
       "9                                     56.402832   \n",
       "10                                    54.401615   \n",
       "\n",
       "    specific_humidity_max_mean (1)  specific_humidity_max_variance (1)  \\\n",
       "0                         0.004761                        1.521821e-08   \n",
       "1                         0.005040                        3.167820e-08   \n",
       "2                         0.004974                        3.202167e-08   \n",
       "3                         0.005351                        9.722735e-09   \n",
       "4                         0.005442                        1.764887e-08   \n",
       "5                         0.004791                        1.680344e-08   \n",
       "6                         0.006556                        7.582684e-09   \n",
       "7                         0.006632                        8.454555e-09   \n",
       "8                         0.006912                        2.068725e-08   \n",
       "9                         0.008377                        4.858727e-08   \n",
       "10                        0.006363                        3.566768e-09   \n",
       "\n",
       "    specific_humidity_mean_mean (1)  specific_humidity_mean_variance (1)  \\\n",
       "0                          0.004162                         6.781222e-09   \n",
       "1                          0.004350                         3.656997e-09   \n",
       "2                          0.004293                         4.498034e-09   \n",
       "3                          0.004480                         4.101738e-09   \n",
       "4                          0.005178                         8.557985e-09   \n",
       "5                          0.004077                         5.714118e-09   \n",
       "6                          0.005288                         1.072817e-08   \n",
       "7                          0.005830                         2.967850e-09   \n",
       "8                          0.005060                         3.117218e-09   \n",
       "9                          0.007536                         6.490473e-09   \n",
       "10                         0.006040                         2.024424e-09   \n",
       "\n",
       "    specific_humidity_min_mean (1)  specific_humidity_min_variance (1)  \n",
       "0                         0.003677                        1.624861e-08  \n",
       "1                         0.003306                        3.033073e-08  \n",
       "2                         0.003840                        1.202132e-08  \n",
       "3                         0.003662                        0.000000e+00  \n",
       "4                         0.004862                        4.650007e-09  \n",
       "5                         0.003408                        2.779437e-08  \n",
       "6                         0.003647                        5.429411e-08  \n",
       "7                         0.005132                        3.778132e-09  \n",
       "8                         0.004333                        2.663186e-08  \n",
       "9                         0.006332                        3.566768e-09  \n",
       "10                        0.005519                        1.455769e-08  \n",
       "\n",
       "[11 rows x 22 columns]"
      ]
     },
     "execution_count": 103,
     "metadata": {},
     "output_type": "execute_result"
    }
   ],
   "source": [
    "%%time\n",
    "cblst = shape_cubes\n",
    "extract_collapse_df(rand_id(), cblst)"
   ]
  },
  {
   "cell_type": "markdown",
   "metadata": {},
   "source": [
    "## 8. Loop through all the regions in the shapefile; subsetting, collapsing, and saving each Pandas DataFrame to CSV for each region."
   ]
  },
  {
   "cell_type": "code",
   "execution_count": 104,
   "metadata": {},
   "outputs": [
    {
     "name": "stdout",
     "output_type": "stream",
     "text": [
      "/data/share/kaedonkers/UKcovidreportingregions_region_csvs\n"
     ]
    }
   ],
   "source": [
    "CSV_FOLDER = f\"/data/share/kaedonkers/{SHAPEFILE_NAME.replace('_', '')}_region_csvs\"\n",
    "CSV_NAME = 'metoffice_global_daily'\n",
    "\n",
    "print(CSV_FOLDER)"
   ]
  },
  {
   "cell_type": "code",
   "execution_count": 105,
   "metadata": {},
   "outputs": [],
   "source": [
    "#Create CSV_FOLDER if it doesn not exist\n",
    "if not os.path.isdir(CSV_FOLDER):\n",
    "    os.mkdir(CSV_FOLDER)"
   ]
  },
  {
   "cell_type": "code",
   "execution_count": 106,
   "metadata": {},
   "outputs": [
    {
     "data": {
      "text/plain": [
       "0"
      ]
     },
     "execution_count": 106,
     "metadata": {},
     "output_type": "execute_result"
    }
   ],
   "source": [
    "#List the csvs already written in CSV_FOLDER\n",
    "CSVS_WRITTEN = os.listdir(CSV_FOLDER)\n",
    "len(CSVS_WRITTEN)"
   ]
  },
  {
   "cell_type": "code",
   "execution_count": 107,
   "metadata": {},
   "outputs": [],
   "source": [
    "def get_csv_name(folder, shapefile, shape_id, data_name, start_dt, end_dt, separator='_', dtfmt='%Y%m%d'):\n",
    "    '''\n",
    "    \n",
    "    '''\n",
    "    extension = '.csv'\n",
    "    \n",
    "    #Cut out underscores from shapefile name to reduce overall length\n",
    "    shapefile = shapefile.replace('_', '')\n",
    "    shape_id = shape_id.replace('_', '-').replace('.', '-')\n",
    "    \n",
    "    #Format the daterange that be at the end of the filename\n",
    "    dt_range = f\"{start_dt.strftime(dtfmt)}-{end_dt.strftime(dtfmt)}\"\n",
    "    \n",
    "    #Join all the filename parts with separator\n",
    "    filename = separator.join([shapefile, shape_id, data_name, dt_range])\n",
    "    \n",
    "    #Join filename with folder\n",
    "    filepath = os.path.join(folder, f\"{filename}{extension}\")\n",
    "    \n",
    "    return filepath"
   ]
  },
  {
   "cell_type": "code",
   "execution_count": 108,
   "metadata": {},
   "outputs": [
    {
     "data": {
      "text/plain": [
       "'/data/share/kaedonkers/UKcovidreportingregions_region_csvs/UKcovidreportingregions_E08000004_metoffice_global_daily_20200301-20200311.csv'"
      ]
     },
     "execution_count": 108,
     "metadata": {},
     "output_type": "execute_result"
    }
   ],
   "source": [
    "#Test get_csv_name\n",
    "get_csv_name(CSV_FOLDER, SHAPEFILE_NAME, rand_id(), CSV_NAME, DATERANGE[0], DATERANGE[-1])"
   ]
  },
  {
   "cell_type": "markdown",
   "metadata": {},
   "source": [
    "#### Loop through all shape geometries"
   ]
  },
  {
   "cell_type": "code",
   "execution_count": 109,
   "metadata": {},
   "outputs": [
    {
     "name": "stdout",
     "output_type": "stream",
     "text": [
      "  [E06000001] /data/share/kaedonkers/UKcovidreportingregions_region_csvs/UKcovidreportingregions_E06000001_metoffice_global_daily_20200301-20200311.csv: Success\n",
      "  [E06000002] /data/share/kaedonkers/UKcovidreportingregions_region_csvs/UKcovidreportingregions_E06000002_metoffice_global_daily_20200301-20200311.csv: Success\n",
      "  [E06000003] /data/share/kaedonkers/UKcovidreportingregions_region_csvs/UKcovidreportingregions_E06000003_metoffice_global_daily_20200301-20200311.csv: Success\n",
      "CPU times: user 10.4 s, sys: 9.53 s, total: 20 s\n",
      "Wall time: 11.7 s\n"
     ]
    }
   ],
   "source": [
    "%%time\n",
    "#This will loop through all the region IDs, executing extract_collapse_df for each region and saving it to a CSV file\n",
    "#Any errors will be caught and printed, but the loop will continue onto the next ID\n",
    "#Files are writen to CSV_FOLDER\n",
    "\n",
    "start = len(CSVS_WRITTEN)\n",
    "# stop = len(region_ids)\n",
    "stop = 3\n",
    "for shape_id in SHAPE_IDS[start:stop]:\n",
    "    try:\n",
    "        df = extract_collapse_df(shape_id, shape_cubes)\n",
    "        fname = get_csv_name(CSV_FOLDER, SHAPEFILE_NAME, shape_id, CSV_NAME, DATERANGE[0], DATERANGE[-1])\n",
    "        df.to_csv(fname, index=False)\n",
    "        print(f'  [{shape_id}] {fname}: Success')\n",
    "    except Exception as e:\n",
    "        print(f'x [{shape_id}] {fname}: Error \\n  x  {e}')"
   ]
  },
  {
   "cell_type": "markdown",
   "metadata": {},
   "source": [
    "## 6. Load all the region CSVs, collate into one large DataFrame and save out to CSV."
   ]
  },
  {
   "cell_type": "code",
   "execution_count": null,
   "metadata": {},
   "outputs": [],
   "source": [
    "#List all the csvs in /data/share/us_data/\n",
    "csvs = glob.glob('/data/share/us_data/*.csv')\n",
    "len(csvs)"
   ]
  },
  {
   "cell_type": "code",
   "execution_count": null,
   "metadata": {},
   "outputs": [],
   "source": [
    "%%time\n",
    "#Now load all the CSVs for each region and combine into one large dataframe\n",
    "df = pd.concat([pd.read_csv(csv) for csv in csvs], ignore_index=True)\n",
    "df"
   ]
  },
  {
   "cell_type": "code",
   "execution_count": null,
   "metadata": {},
   "outputs": [],
   "source": [
    "#And save to a CSV\n",
    "fname_write = '/data/share/us_daily_precipdata_2020jan-mar_v01.csv'\n",
    "Mdf.to_csv(fname_write, index=False)"
   ]
  },
  {
   "cell_type": "code",
   "execution_count": null,
   "metadata": {},
   "outputs": [],
   "source": [
    "#We can read it back in to check that it wrote correctly\n",
    "pd.read_csv(fname_write)"
   ]
  }
 ],
 "metadata": {
  "kernelspec": {
   "display_name": "Python (cloudreadydata)",
   "language": "python",
   "name": "cloudreadydata"
  },
  "language_info": {
   "codemirror_mode": {
    "name": "ipython",
    "version": 3
   },
   "file_extension": ".py",
   "mimetype": "text/x-python",
   "name": "python",
   "nbconvert_exporter": "python",
   "pygments_lexer": "ipython3",
   "version": "3.6.10"
  }
 },
 "nbformat": 4,
 "nbformat_minor": 4
}
